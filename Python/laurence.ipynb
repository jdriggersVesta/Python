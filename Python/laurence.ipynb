{
 "cells": [
  {
   "cell_type": "markdown",
   "metadata": {},
   "source": [
    "This Pyton script reads a sql query from Snowflake, creates a pandas dataframe and then writes the dataframe to the hometeam-clinical-data bucket on AWS S3. Ed user needs to pastse custom sql query and define the S3 path."
   ]
  },
  {
   "cell_type": "code",
   "execution_count": null,
   "metadata": {},
   "outputs": [],
   "source": [
    "import snowflake.connector as sf\n",
    "import time\n",
    "import os\n",
    "import boto3\n",
    "import pandas as pd\n",
    "import csv\n"
   ]
  },
  {
   "cell_type": "code",
   "execution_count": null,
   "metadata": {},
   "outputs": [],
   "source": [
    "# log\n",
    "start_time = time.time()\n",
    "log = []\n"
   ]
  },
  {
   "cell_type": "code",
   "execution_count": null,
   "metadata": {},
   "outputs": [],
   "source": [
    "# Snowflake credentials stored in environment variables\n",
    "\n",
    "username = os.getenv(\"Snowflake_User\")\n",
    "password = os.getenv(\"Snowflake_password\")\n",
    "account = os.getenv(\"Snowflake_account\")\n",
    "\n",
    "# Define warehouse, if neccessary\n",
    "warehouse = \"DEVELOPER_BASIC\"\n",
    "\n",
    "# Define Database, if not defined in SQL request\n",
    "# database = 'VESTA_STAGING'\n",
    "\n",
    "# Create connection object for Snowflake connection\n",
    "conn = sf.connect(\n",
    "    user=username, password=password, account=account, warehouse=warehouse\n",
    ")\n",
    "\n",
    "# Execution function\n",
    "def execute_query(connection, query):\n",
    "    cursor = connection.cursor()\n",
    "    cursor.execute(query)\n",
    "    cursor.close\n",
    "\n",
    "\n",
    "try:\n",
    "    # If defining a database, uncomment code set and add database in connection parameter\n",
    "    # sql = 'use {}'.format(database)\n",
    "    # execute_query(conn,sql)1011\n",
    "\n",
    "    # Define warehouse to use in Snowflake\n",
    "    sql = \"use warehouse {}\".format(warehouse)\n",
    "    execute_query(conn, sql)\n",
    "\n",
    "    print(\"Successful Connection\")\n",
    "\n",
    "    # Query to Snowflake\n",
    "    sql = \"\"\"\n",
    "            SELECT *\n",
    "            FROM\n",
    "            VESTA_DEVELOPMENT.ANALYST_SANDBOX.VIP_SCORING\n",
    "            WHERE CLNT = 'UHC_NE'\n",
    "            AND DATA_DATE_START = '202209' limit 10 \"\"\"\n",
    "            \n",
    "    cursor = conn.cursor()\n",
    "    cursor.execute(sql)\n",
    "\n",
    "    # Dataframe creation\n",
    "    df = pd.DataFrame.from_records(\n",
    "        iter(cursor), columns=[x[0] for x in cursor.description]\n",
    "    )\n",
    "\n",
    "    print(\"Successful DataFrame Created\")\n",
    "\n",
    "    cursor.close\n",
    "\n",
    "except Exception as e:\n",
    "    print(e)\n",
    "\n",
    "finally:\n",
    "    conn.close\n",
    "\n",
    "df"
   ]
  },
  {
   "cell_type": "code",
   "execution_count": null,
   "metadata": {},
   "outputs": [],
   "source": [
    "#Create Connection Object for Connecting to AWS\n",
    "\n",
    "try:\n",
    "    s3 = boto3.resource(\n",
    "        service_name='s3',\n",
    "        region_name='us-east-1',\n",
    "        aws_access_key_id=os.getenv('aws_access_key_id'),\n",
    "        aws_secret_access_key=os.getenv('aws_secret_access_key'))\n",
    "    print('AWS connection object created at ' + time.strftime('%Y-%m-%d %H:%M:%S', time.localtime(time.time())))\n",
    "    log.append(\n",
    "        'AWS connection object created at ' + time.strftime('%Y-%m-%d %H:%M:%S', time.localtime(time.time())))\n",
    "except Exception as e:\n",
    "    print('There was an error with creating the AWS connection object - ' + str(e))\n",
    "    log.append('There was an error with creating the AWS connection object - ' + str(e))\n"
   ]
  },
  {
   "cell_type": "code",
   "execution_count": null,
   "metadata": {},
   "outputs": [],
   "source": [
    "# write df as csv to AWS bucket\n",
    "\n",
    "df.to_csv('s3://hometeam-clinical-data/test.csv', index=False)"
   ]
  }
 ],
 "metadata": {
  "kernelspec": {
   "display_name": "Python 3.9.13 ('NewBase')",
   "language": "python",
   "name": "python3"
  },
  "language_info": {
   "codemirror_mode": {
    "name": "ipython",
    "version": 3
   },
   "file_extension": ".py",
   "mimetype": "text/x-python",
   "name": "python",
   "nbconvert_exporter": "python",
   "pygments_lexer": "ipython3",
   "version": "3.9.13"
  },
  "orig_nbformat": 4,
  "vscode": {
   "interpreter": {
    "hash": "4bb5f7e03c56d6e91378b915f266587dc28bbd5e1a358e8c73c01ed5dd6d43c1"
   }
  }
 },
 "nbformat": 4,
 "nbformat_minor": 2
}
