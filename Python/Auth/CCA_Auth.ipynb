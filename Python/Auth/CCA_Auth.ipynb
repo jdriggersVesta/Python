{
 "cells": [
  {
   "cell_type": "code",
   "execution_count": 1,
   "metadata": {
    "collapsed": true
   },
   "outputs": [
    {
     "ename": "ModuleNotFoundError",
     "evalue": "No module named 'snowflake.sqlalchemy'",
     "output_type": "error",
     "traceback": [
      "\u001B[1;31m---------------------------------------------------------------------------\u001B[0m",
      "\u001B[1;31mModuleNotFoundError\u001B[0m                       Traceback (most recent call last)",
      "Input \u001B[1;32mIn [1]\u001B[0m, in \u001B[0;36m<cell line: 8>\u001B[1;34m()\u001B[0m\n\u001B[0;32m      6\u001B[0m \u001B[38;5;28;01mfrom\u001B[39;00m \u001B[38;5;21;01msqlalchemy\u001B[39;00m \u001B[38;5;28;01mimport\u001B[39;00m create_engine\n\u001B[0;32m      7\u001B[0m \u001B[38;5;28;01mfrom\u001B[39;00m \u001B[38;5;21;01msqlalchemy\u001B[39;00m\u001B[38;5;21;01m.\u001B[39;00m\u001B[38;5;21;01morm\u001B[39;00m \u001B[38;5;28;01mimport\u001B[39;00m sessionmaker\n\u001B[1;32m----> 8\u001B[0m \u001B[38;5;28;01mfrom\u001B[39;00m \u001B[38;5;21;01msnowflake\u001B[39;00m\u001B[38;5;21;01m.\u001B[39;00m\u001B[38;5;21;01msqlalchemy\u001B[39;00m \u001B[38;5;28;01mimport\u001B[39;00m URL\n\u001B[0;32m      9\u001B[0m \u001B[38;5;28;01mfrom\u001B[39;00m \u001B[38;5;21;01msqlalchemy\u001B[39;00m\u001B[38;5;21;01m.\u001B[39;00m\u001B[38;5;21;01mdialects\u001B[39;00m \u001B[38;5;28;01mimport\u001B[39;00m registry\n\u001B[0;32m     10\u001B[0m \u001B[38;5;28;01mimport\u001B[39;00m \u001B[38;5;21;01mboto3\u001B[39;00m\n",
      "\u001B[1;31mModuleNotFoundError\u001B[0m: No module named 'snowflake.sqlalchemy'"
     ]
    }
   ],
   "source": [
    "import csv\n",
    "import glob\n",
    "import os\n",
    "import time\n",
    "import sqlalchemy\n",
    "from sqlalchemy import create_engine\n",
    "from sqlalchemy.orm import sessionmaker\n",
    "\n",
    "from sqlalchemy.dialects import registry\n",
    "import boto3\n",
    "import pandas as pd\n",
    "import snowflake.connector as sf\n",
    "from snowflake.connector.pandas_tools import write_pandas"
   ]
  },
  {
   "cell_type": "code",
   "execution_count": 2,
   "metadata": {
    "collapsed": false
   },
   "outputs": [],
   "source": [
    "# log\n",
    "start_time = time.time()\n",
    "auth_log = []"
   ]
  },
  {
   "cell_type": "code",
   "execution_count": 3,
   "metadata": {
    "collapsed": false
   },
   "outputs": [
    {
     "name": "stdout",
     "output_type": "stream",
     "text": [
      "Successfully created CCA_AUTH File Temporary Folder at 2022-12-13 15:17:44\n"
     ]
    }
   ],
   "source": [
    "try:\n",
    "    # Create local directory to store downloaded files\n",
    "    os.makedirs('C:\\\\Users\\\\Jad Driggers\\\\Documents\\\\Vesta\\\\CCAFILES\\\\CCA_AUTH')\n",
    "    os.chdir('C:\\\\Users\\\\Jad Driggers\\\\Documents\\\\Vesta\\\\CCAFILES\\\\CCA_AUTH')\n",
    "    root_directory = os.getcwd()\n",
    "    auth_log.append('Successfully created CCA_AUTH File Temporary Folder at ' + time.strftime('%Y-%m-%d %H:%M:%S',\n",
    "                                                                                              time.localtime(\n",
    "                                                                                                  time.time())))\n",
    "except Exception as e:\n",
    "    auth_log.append('There was an error with creating the temporary CCA_AUTH File - ' + str(e))\n",
    "    print('Successfully created CCA_AUTH File Temporary Folder at ' + time.strftime('%Y-%m-%d %H:%M:%S',\n",
    "                                                                                    time.localtime(time.time())))\n"
   ]
  },
  {
   "cell_type": "code",
   "execution_count": 4,
   "metadata": {
    "collapsed": false
   },
   "outputs": [
    {
     "name": "stdout",
     "output_type": "stream",
     "text": [
      "AWS connection object created at 2022-12-13 15:17:46\n"
     ]
    }
   ],
   "source": [
    "#Create Connection Object for Connecting to AWS\n",
    "\n",
    "try:\n",
    "    s3 = boto3.resource(\n",
    "        service_name='s3',\n",
    "        region_name='us-east-1',\n",
    "        aws_access_key_id=os.getenv('aws_access_key_id'),\n",
    "        aws_secret_access_key=os.getenv('aws_secret_access_key'))\n",
    "    print('AWS connection object created at ' + time.strftime('%Y-%m-%d %H:%M:%S', time.localtime(time.time())))\n",
    "    auth_log.append(\n",
    "        'AWS connection object created at ' + time.strftime('%Y-%m-%d %H:%M:%S', time.localtime(time.time())))\n",
    "except Exception as e:\n",
    "    print('There was an error with creating the AWS connection object - ' + str(e))\n",
    "    auth_log.append('There was an error with creating the AWS connection object - ' + str(e))\n"
   ]
  },
  {
   "cell_type": "code",
   "execution_count": 9,
   "metadata": {
    "collapsed": false
   },
   "outputs": [
    {
     "name": "stdout",
     "output_type": "stream",
     "text": [
      "Looking for CCA Files that start like Auth Universe Report_12 at 2022-12-13 15:20:13\n"
     ]
    }
   ],
   "source": [
    "#Create the file name format for locating the proper CCA files to parse\n",
    "MONTH = '12'\n",
    "\n",
    "filename_format_list = ['Auth Universe Report_' + MONTH]\n",
    "auth_log.append('Looking for CCA Files that start like ' + \" and \".join(filename_format_list) + ' at ' + time.strftime(\n",
    "    '%Y-%m-%d %H:%M:%S', time.localtime(time.time())))\n",
    "print('Looking for CCA Files that start like ' + \" and \".join(filename_format_list) + ' at ' + time.strftime(\n",
    "    '%Y-%m-%d %H:%M:%S', time.localtime(time.time())))"
   ]
  },
  {
   "cell_type": "code",
   "execution_count": 10,
   "metadata": {
    "collapsed": false
   },
   "outputs": [],
   "source": [
    "#Creating a list to store all the keys (file names) to download\n",
    "\n",
    "key_list = []\n",
    "\n",
    "try:\n",
    "    #Searching the S3 bucket for the most current Ping Files\n",
    "    for obj in s3.Bucket('hometeam-clinical-data').objects.all():\n",
    "        for filename_format in filename_format_list:\n",
    "            if filename_format in str(obj):\n",
    "                #print(obj.key)\n",
    "                key_list.append(obj.key)\n",
    "\n",
    "except Exception as e:\n",
    "    auth_log.append('There was an error while looking for most CCA Files - ' + str(e))"
   ]
  },
  {
   "cell_type": "code",
   "execution_count": 11,
   "metadata": {
    "collapsed": false
   },
   "outputs": [
    {
     "name": "stdout",
     "output_type": "stream",
     "text": [
      "['raw/cca/Auth Universe Report_12.12.2022.xlsx']\n"
     ]
    }
   ],
   "source": [
    "print(key_list)"
   ]
  },
  {
   "cell_type": "code",
   "execution_count": 12,
   "metadata": {
    "collapsed": false
   },
   "outputs": [
    {
     "name": "stdout",
     "output_type": "stream",
     "text": [
      "Files were successfully downloaded at 2022-12-13 15:20:23\n"
     ]
    }
   ],
   "source": [
    "try:\n",
    "    #Downloading each of the files found in the key list\n",
    "    for file in key_list:\n",
    "        s3.Bucket('hometeam-clinical-data').download_file(file, file.split('/')[2])\n",
    "        print(\n",
    "            'Files were successfully downloaded at ' + time.strftime('%Y-%m-%d %H:%M:%S', time.localtime(time.time())))\n",
    "    auth_log.append(\n",
    "        'Files were successfully downloaded at ' + time.strftime('%Y-%m-%d %H:%M:%S', time.localtime(time.time())))\n",
    "except Exception as e:\n",
    "    auth_log.append('There was an error while trying to download the CCA Files - ' + str(e))"
   ]
  },
  {
   "cell_type": "code",
   "execution_count": 13,
   "metadata": {
    "collapsed": false
   },
   "outputs": [
    {
     "name": "stdout",
     "output_type": "stream",
     "text": [
      "<_io.TextIOWrapper name='Auth Universe Report_12.05.2022.xlsx' mode='r' encoding='cp1252'>\n"
     ]
    }
   ],
   "source": [
    "\n",
    "\n",
    "#Set current directory\n",
    "cwd = os.chdir('C:\\\\Users\\\\Jad Driggers\\\\Documents\\\\CCA_AUTH')\n",
    "\n",
    "for i, file in enumerate(os.listdir(cwd)):\n",
    "    if '.xlsx' in file:\n",
    "        df_list = []\n",
    "\n",
    "        with open(file, 'r') as csvfile:\n",
    "            reader = csv.reader(csvfile)\n",
    "\n",
    "    print(csvfile)"
   ]
  },
  {
   "cell_type": "code",
   "execution_count": 14,
   "metadata": {
    "collapsed": false
   },
   "outputs": [
    {
     "name": "stdout",
     "output_type": "stream",
     "text": [
      "Location: C:\\Users\\Jad Driggers\\Documents\\CCA_AUTH\\Auth Universe Report_12.05.2022.xlsx\n",
      "File Name: Auth Universe Report_12.05.2022.xlsx\n",
      "Content:\n"
     ]
    },
    {
     "data": {
      "text/plain": "         AUTH_ID       CCAID                       Product          cat  \\\n0      0102S1Q6D  5366000712  Senior Care Options (SCO)-MA  Home Health   \n1      0102S38PQ  5365706182  Senior Care Options (SCO)-MA    Procedure   \n2      0102SMODE  5365665706  Senior Care Options (SCO)-MA  Home Health   \n3      0102SZTF9  5365576687  Senior Care Options (SCO)-MA  Home Health   \n4      0103M2N3I  5364525974  Senior Care Options (SCO)-MA  Home Health   \n...          ...         ...                           ...          ...   \n11096  1231FCFJB  5365652676  Senior Care Options (SCO)-MA         LTSS   \n11097  1231FRDSP  5365612416  Senior Care Options (SCO)-MA         LTSS   \n11098  1231FSXXZ  5365584766  Senior Care Options (SCO)-MA  Home Health   \n11099  1231FV5QD  5365652676  Senior Care Options (SCO)-MA         LTSS   \n11100  1231FZQ5V  5365602184  Senior Care Options (SCO)-MA  Home Health   \n\n               auth_priority           Received_Date min_SERVICE_FROM_DATE  \\\n0       Prospective Standard 2022-01-01 19:00:00.979            2022-01-07   \n1      Prospective Expedited 2022-01-02 12:04:03.994            2022-01-04   \n2       Prospective Standard 2022-01-01 18:22:10.042            2022-01-06   \n3       Prospective Standard 2022-01-02 09:42:14.976            2021-12-28   \n4       Prospective Standard 2022-01-03 12:19:37.027            2021-12-25   \n...                      ...                     ...                   ...   \n11096   Prospective Standard 2021-12-31 06:22:21.965            2022-01-01   \n11097   Prospective Standard 2021-12-31 06:33:33.034            2022-01-01   \n11098   Prospective Standard 2021-12-31 12:53:09.024            2022-01-01   \n11099   Prospective Standard 2021-12-31 06:30:20.016            2022-01-01   \n11100   Prospective Standard 2021-12-31 11:52:44.976            2021-12-29   \n\n      max_SERVICE_to_DATE                Referred To/Facility Service Code(s)  \\\n0              2022-03-07              Comfort Home Care, LLC           G0299   \n1              2023-01-04          Matthew Jonathan Weinstock           J9312   \n2              2022-03-06              Comfort Home Care, LLC           G0299   \n3              2022-02-25            Ideal Health Care System           G0299   \n4              2022-02-22     Suburban Home Health Care, Inc.           G0299   \n...                   ...                                 ...             ...   \n11096          2022-01-27                  Quality Care, Inc.           S5135   \n11097          2022-06-30      Uniting With You Home Care LLC           S5130   \n11098          2022-01-28  All Care VNA of Greater Lynn, Inc.           G0299   \n11099          2022-01-27                  Quality Care, Inc.   S5130 | S5131   \n11100          2022-01-28         Neighborhood Home Care, LLC   G0151 | G0299   \n\n       ...           Decision_Date        WrittenNotifDate   deadline  \\\n0      ... 2022-01-03 09:55:42.038 2022-01-03 16:59:59.971 2022-01-15   \n1      ... 2022-01-02 21:45:54.000 2022-01-03 12:00:00.000 2022-01-06   \n2      ... 2022-01-03 09:03:16.042 2022-01-03 16:59:59.971 2022-01-15   \n3      ... 2022-01-03 10:37:53.040 2022-01-03 16:59:59.971 2022-01-16   \n4      ... 2022-01-04 08:50:18.010 2022-01-04 16:59:59.971 2022-01-17   \n...    ...                     ...                     ...        ...   \n11096  ... 2022-01-03 09:46:11.971 2022-01-03 16:59:59.971 2022-01-14   \n11097  ... 2022-01-03 08:59:49.027 2022-01-03 16:59:59.971 2022-01-14   \n11098  ... 2022-01-03 09:55:37.978 2022-01-03 16:59:59.971 2022-01-14   \n11099  ... 2022-01-03 09:49:19.027 2022-01-03 16:59:59.971 2022-01-14   \n11100  ... 2022-01-03 11:00:34.013 2022-01-03 16:59:59.971 2022-01-14   \n\n            TAT           CMO Verbal_Notification_Fixed_New   Letter Flag  \\\n0         2 day  Element Care                           NaT  TimelyLetter   \n1      24 hours  Element Care       2022-01-03 07:59:59.971  TimelyLetter   \n2         2 day  Element Care                           NaT  TimelyLetter   \n3         1 day  Element Care                           NaT  TimelyLetter   \n4         1 day  Element Care                           NaT  TimelyLetter   \n...         ...           ...                           ...           ...   \n11096     3 day  Element Care                           NaT  TimelyLetter   \n11097     3 day  Element Care                           NaT  TimelyLetter   \n11098     3 day  Element Care                           NaT  TimelyLetter   \n11099     3 day  Element Care                           NaT  TimelyLetter   \n11100     3 day  Element Care                           NaT  TimelyLetter   \n\n      Admin Approval or Admin Denial                LoadDate  \\\n0                                 No 2022-12-05 06:37:21.994   \n1                                 No 2022-12-05 06:37:21.994   \n2                                 No 2022-12-05 06:37:21.994   \n3                                 No 2022-12-05 06:37:21.994   \n4                                 No 2022-12-05 06:37:21.994   \n...                              ...                     ...   \n11096                             No 2022-12-05 06:37:21.994   \n11097                             No 2022-12-05 06:37:21.994   \n11098                             No 2022-12-05 06:37:21.994   \n11099                             No 2022-12-05 06:37:21.994   \n11100                             No 2022-12-05 06:37:21.994   \n\n         Altruista_updatedate  \n0     2022-12-04 23:04:41.030  \n1     2022-12-04 23:04:41.030  \n2     2022-12-04 23:04:41.030  \n3     2022-12-04 23:04:41.030  \n4     2022-12-04 23:04:41.030  \n...                       ...  \n11096 2022-12-04 23:04:41.030  \n11097 2022-12-04 23:04:41.030  \n11098 2022-12-04 23:04:41.030  \n11099 2022-12-04 23:04:41.030  \n11100 2022-12-04 23:04:41.030  \n\n[11101 rows x 23 columns]",
      "text/html": "<div>\n<style scoped>\n    .dataframe tbody tr th:only-of-type {\n        vertical-align: middle;\n    }\n\n    .dataframe tbody tr th {\n        vertical-align: top;\n    }\n\n    .dataframe thead th {\n        text-align: right;\n    }\n</style>\n<table border=\"1\" class=\"dataframe\">\n  <thead>\n    <tr style=\"text-align: right;\">\n      <th></th>\n      <th>AUTH_ID</th>\n      <th>CCAID</th>\n      <th>Product</th>\n      <th>cat</th>\n      <th>auth_priority</th>\n      <th>Received_Date</th>\n      <th>min_SERVICE_FROM_DATE</th>\n      <th>max_SERVICE_to_DATE</th>\n      <th>Referred To/Facility</th>\n      <th>Service Code(s)</th>\n      <th>...</th>\n      <th>Decision_Date</th>\n      <th>WrittenNotifDate</th>\n      <th>deadline</th>\n      <th>TAT</th>\n      <th>CMO</th>\n      <th>Verbal_Notification_Fixed_New</th>\n      <th>Letter Flag</th>\n      <th>Admin Approval or Admin Denial</th>\n      <th>LoadDate</th>\n      <th>Altruista_updatedate</th>\n    </tr>\n  </thead>\n  <tbody>\n    <tr>\n      <th>0</th>\n      <td>0102S1Q6D</td>\n      <td>5366000712</td>\n      <td>Senior Care Options (SCO)-MA</td>\n      <td>Home Health</td>\n      <td>Prospective Standard</td>\n      <td>2022-01-01 19:00:00.979</td>\n      <td>2022-01-07</td>\n      <td>2022-03-07</td>\n      <td>Comfort Home Care, LLC</td>\n      <td>G0299</td>\n      <td>...</td>\n      <td>2022-01-03 09:55:42.038</td>\n      <td>2022-01-03 16:59:59.971</td>\n      <td>2022-01-15</td>\n      <td>2 day</td>\n      <td>Element Care</td>\n      <td>NaT</td>\n      <td>TimelyLetter</td>\n      <td>No</td>\n      <td>2022-12-05 06:37:21.994</td>\n      <td>2022-12-04 23:04:41.030</td>\n    </tr>\n    <tr>\n      <th>1</th>\n      <td>0102S38PQ</td>\n      <td>5365706182</td>\n      <td>Senior Care Options (SCO)-MA</td>\n      <td>Procedure</td>\n      <td>Prospective Expedited</td>\n      <td>2022-01-02 12:04:03.994</td>\n      <td>2022-01-04</td>\n      <td>2023-01-04</td>\n      <td>Matthew Jonathan Weinstock</td>\n      <td>J9312</td>\n      <td>...</td>\n      <td>2022-01-02 21:45:54.000</td>\n      <td>2022-01-03 12:00:00.000</td>\n      <td>2022-01-06</td>\n      <td>24 hours</td>\n      <td>Element Care</td>\n      <td>2022-01-03 07:59:59.971</td>\n      <td>TimelyLetter</td>\n      <td>No</td>\n      <td>2022-12-05 06:37:21.994</td>\n      <td>2022-12-04 23:04:41.030</td>\n    </tr>\n    <tr>\n      <th>2</th>\n      <td>0102SMODE</td>\n      <td>5365665706</td>\n      <td>Senior Care Options (SCO)-MA</td>\n      <td>Home Health</td>\n      <td>Prospective Standard</td>\n      <td>2022-01-01 18:22:10.042</td>\n      <td>2022-01-06</td>\n      <td>2022-03-06</td>\n      <td>Comfort Home Care, LLC</td>\n      <td>G0299</td>\n      <td>...</td>\n      <td>2022-01-03 09:03:16.042</td>\n      <td>2022-01-03 16:59:59.971</td>\n      <td>2022-01-15</td>\n      <td>2 day</td>\n      <td>Element Care</td>\n      <td>NaT</td>\n      <td>TimelyLetter</td>\n      <td>No</td>\n      <td>2022-12-05 06:37:21.994</td>\n      <td>2022-12-04 23:04:41.030</td>\n    </tr>\n    <tr>\n      <th>3</th>\n      <td>0102SZTF9</td>\n      <td>5365576687</td>\n      <td>Senior Care Options (SCO)-MA</td>\n      <td>Home Health</td>\n      <td>Prospective Standard</td>\n      <td>2022-01-02 09:42:14.976</td>\n      <td>2021-12-28</td>\n      <td>2022-02-25</td>\n      <td>Ideal Health Care System</td>\n      <td>G0299</td>\n      <td>...</td>\n      <td>2022-01-03 10:37:53.040</td>\n      <td>2022-01-03 16:59:59.971</td>\n      <td>2022-01-16</td>\n      <td>1 day</td>\n      <td>Element Care</td>\n      <td>NaT</td>\n      <td>TimelyLetter</td>\n      <td>No</td>\n      <td>2022-12-05 06:37:21.994</td>\n      <td>2022-12-04 23:04:41.030</td>\n    </tr>\n    <tr>\n      <th>4</th>\n      <td>0103M2N3I</td>\n      <td>5364525974</td>\n      <td>Senior Care Options (SCO)-MA</td>\n      <td>Home Health</td>\n      <td>Prospective Standard</td>\n      <td>2022-01-03 12:19:37.027</td>\n      <td>2021-12-25</td>\n      <td>2022-02-22</td>\n      <td>Suburban Home Health Care, Inc.</td>\n      <td>G0299</td>\n      <td>...</td>\n      <td>2022-01-04 08:50:18.010</td>\n      <td>2022-01-04 16:59:59.971</td>\n      <td>2022-01-17</td>\n      <td>1 day</td>\n      <td>Element Care</td>\n      <td>NaT</td>\n      <td>TimelyLetter</td>\n      <td>No</td>\n      <td>2022-12-05 06:37:21.994</td>\n      <td>2022-12-04 23:04:41.030</td>\n    </tr>\n    <tr>\n      <th>...</th>\n      <td>...</td>\n      <td>...</td>\n      <td>...</td>\n      <td>...</td>\n      <td>...</td>\n      <td>...</td>\n      <td>...</td>\n      <td>...</td>\n      <td>...</td>\n      <td>...</td>\n      <td>...</td>\n      <td>...</td>\n      <td>...</td>\n      <td>...</td>\n      <td>...</td>\n      <td>...</td>\n      <td>...</td>\n      <td>...</td>\n      <td>...</td>\n      <td>...</td>\n      <td>...</td>\n    </tr>\n    <tr>\n      <th>11096</th>\n      <td>1231FCFJB</td>\n      <td>5365652676</td>\n      <td>Senior Care Options (SCO)-MA</td>\n      <td>LTSS</td>\n      <td>Prospective Standard</td>\n      <td>2021-12-31 06:22:21.965</td>\n      <td>2022-01-01</td>\n      <td>2022-01-27</td>\n      <td>Quality Care, Inc.</td>\n      <td>S5135</td>\n      <td>...</td>\n      <td>2022-01-03 09:46:11.971</td>\n      <td>2022-01-03 16:59:59.971</td>\n      <td>2022-01-14</td>\n      <td>3 day</td>\n      <td>Element Care</td>\n      <td>NaT</td>\n      <td>TimelyLetter</td>\n      <td>No</td>\n      <td>2022-12-05 06:37:21.994</td>\n      <td>2022-12-04 23:04:41.030</td>\n    </tr>\n    <tr>\n      <th>11097</th>\n      <td>1231FRDSP</td>\n      <td>5365612416</td>\n      <td>Senior Care Options (SCO)-MA</td>\n      <td>LTSS</td>\n      <td>Prospective Standard</td>\n      <td>2021-12-31 06:33:33.034</td>\n      <td>2022-01-01</td>\n      <td>2022-06-30</td>\n      <td>Uniting With You Home Care LLC</td>\n      <td>S5130</td>\n      <td>...</td>\n      <td>2022-01-03 08:59:49.027</td>\n      <td>2022-01-03 16:59:59.971</td>\n      <td>2022-01-14</td>\n      <td>3 day</td>\n      <td>Element Care</td>\n      <td>NaT</td>\n      <td>TimelyLetter</td>\n      <td>No</td>\n      <td>2022-12-05 06:37:21.994</td>\n      <td>2022-12-04 23:04:41.030</td>\n    </tr>\n    <tr>\n      <th>11098</th>\n      <td>1231FSXXZ</td>\n      <td>5365584766</td>\n      <td>Senior Care Options (SCO)-MA</td>\n      <td>Home Health</td>\n      <td>Prospective Standard</td>\n      <td>2021-12-31 12:53:09.024</td>\n      <td>2022-01-01</td>\n      <td>2022-01-28</td>\n      <td>All Care VNA of Greater Lynn, Inc.</td>\n      <td>G0299</td>\n      <td>...</td>\n      <td>2022-01-03 09:55:37.978</td>\n      <td>2022-01-03 16:59:59.971</td>\n      <td>2022-01-14</td>\n      <td>3 day</td>\n      <td>Element Care</td>\n      <td>NaT</td>\n      <td>TimelyLetter</td>\n      <td>No</td>\n      <td>2022-12-05 06:37:21.994</td>\n      <td>2022-12-04 23:04:41.030</td>\n    </tr>\n    <tr>\n      <th>11099</th>\n      <td>1231FV5QD</td>\n      <td>5365652676</td>\n      <td>Senior Care Options (SCO)-MA</td>\n      <td>LTSS</td>\n      <td>Prospective Standard</td>\n      <td>2021-12-31 06:30:20.016</td>\n      <td>2022-01-01</td>\n      <td>2022-01-27</td>\n      <td>Quality Care, Inc.</td>\n      <td>S5130 | S5131</td>\n      <td>...</td>\n      <td>2022-01-03 09:49:19.027</td>\n      <td>2022-01-03 16:59:59.971</td>\n      <td>2022-01-14</td>\n      <td>3 day</td>\n      <td>Element Care</td>\n      <td>NaT</td>\n      <td>TimelyLetter</td>\n      <td>No</td>\n      <td>2022-12-05 06:37:21.994</td>\n      <td>2022-12-04 23:04:41.030</td>\n    </tr>\n    <tr>\n      <th>11100</th>\n      <td>1231FZQ5V</td>\n      <td>5365602184</td>\n      <td>Senior Care Options (SCO)-MA</td>\n      <td>Home Health</td>\n      <td>Prospective Standard</td>\n      <td>2021-12-31 11:52:44.976</td>\n      <td>2021-12-29</td>\n      <td>2022-01-28</td>\n      <td>Neighborhood Home Care, LLC</td>\n      <td>G0151 | G0299</td>\n      <td>...</td>\n      <td>2022-01-03 11:00:34.013</td>\n      <td>2022-01-03 16:59:59.971</td>\n      <td>2022-01-14</td>\n      <td>3 day</td>\n      <td>Element Care</td>\n      <td>NaT</td>\n      <td>TimelyLetter</td>\n      <td>No</td>\n      <td>2022-12-05 06:37:21.994</td>\n      <td>2022-12-04 23:04:41.030</td>\n    </tr>\n  </tbody>\n</table>\n<p>11101 rows × 23 columns</p>\n</div>"
     },
     "metadata": {},
     "output_type": "display_data"
    },
    {
     "name": "stdout",
     "output_type": "stream",
     "text": [
      "\n"
     ]
    }
   ],
   "source": [
    "# % % time\n",
    "# #Create dictionary to store dataframes as they are created\n",
    "# df_dict = {}\n",
    "# error_dict = {}\n",
    "# use glob to get all the csv files\n",
    "# in the folder\n",
    "path = os.getcwd()\n",
    "#print(os.getcwd())\n",
    "csv_files = glob.glob(os.path.join(path, \"*.xlsx\"))\n",
    "#cwd = os.chdir('C:\\\\Users\\\\Jad Driggers\\\\Documents\\\\Vesta\\\\CCAFILES\\\\CCA_AUTH')\n",
    "\n",
    "# Loop over files\n",
    "for f in csv_files:\n",
    "    df = pd.read_excel(f)\n",
    "\n",
    "    # print the location and filename\n",
    "    pd.set_option('display.max_colwidth', None)\n",
    "    print('Location:', f)\n",
    "    print('File Name:', f.split(\"\\\\\")[-1])\n",
    "\n",
    "    # print the content\n",
    "    print('Content:')\n",
    "    display(df)\n",
    "    print()\n",
    "\n",
    "\n",
    "\n",
    "\n",
    "\n"
   ]
  },
  {
   "cell_type": "code",
   "execution_count": 131,
   "metadata": {
    "collapsed": false
   },
   "outputs": [
    {
     "ename": "NameError",
     "evalue": "name 's3' is not defined",
     "output_type": "error",
     "traceback": [
      "\u001B[1;31m---------------------------------------------------------------------------\u001B[0m",
      "\u001B[1;31mNameError\u001B[0m                                 Traceback (most recent call last)",
      "Input \u001B[1;32mIn [131]\u001B[0m, in \u001B[0;36m<cell line: 11>\u001B[1;34m()\u001B[0m\n\u001B[0;32m      2\u001B[0m copy_source \u001B[38;5;241m=\u001B[39m {\n\u001B[0;32m      3\u001B[0m     \u001B[38;5;124m'\u001B[39m\u001B[38;5;124mBucket\u001B[39m\u001B[38;5;124m'\u001B[39m: bucket,\n\u001B[0;32m      4\u001B[0m     \u001B[38;5;124m'\u001B[39m\u001B[38;5;124mKey\u001B[39m\u001B[38;5;124m'\u001B[39m: \u001B[38;5;124m'\u001B[39m\u001B[38;5;124mraw/cca/Element MDS 202209.zip\u001B[39m\u001B[38;5;124m'\u001B[39m,\n\u001B[0;32m      5\u001B[0m }\n\u001B[0;32m      7\u001B[0m copy_source2 \u001B[38;5;241m=\u001B[39m {\n\u001B[0;32m      8\u001B[0m     \u001B[38;5;124m'\u001B[39m\u001B[38;5;124mBucket\u001B[39m\u001B[38;5;124m'\u001B[39m: bucket,\n\u001B[0;32m      9\u001B[0m     \u001B[38;5;124m'\u001B[39m\u001B[38;5;124mKey\u001B[39m\u001B[38;5;124m'\u001B[39m: \u001B[38;5;124m'\u001B[39m\u001B[38;5;124mraw/cca/Element claims 202209.zip\u001B[39m\u001B[38;5;124m'\u001B[39m,\n\u001B[0;32m     10\u001B[0m }\n\u001B[1;32m---> 11\u001B[0m \u001B[43ms3\u001B[49m\u001B[38;5;241m.\u001B[39mmeta\u001B[38;5;241m.\u001B[39mclient\u001B[38;5;241m.\u001B[39mcopy(copy_source,bucket, \u001B[38;5;124m'\u001B[39m\u001B[38;5;124mraw/cca/Monthly_Claims/Element MDS 202209.zip\u001B[39m\u001B[38;5;124m'\u001B[39m)\n\u001B[0;32m     12\u001B[0m s3\u001B[38;5;241m.\u001B[39mmeta\u001B[38;5;241m.\u001B[39mclient\u001B[38;5;241m.\u001B[39mcopy(copy_source2,bucket, \u001B[38;5;124m'\u001B[39m\u001B[38;5;124mraw/cca/Monthly_Claims/Element claims 202209.zip\u001B[39m\u001B[38;5;124m'\u001B[39m)\n\u001B[0;32m     13\u001B[0m s3_object \u001B[38;5;241m=\u001B[39m s3\u001B[38;5;241m.\u001B[39mObject(\u001B[38;5;124m'\u001B[39m\u001B[38;5;124mhometeam-clinical-data\u001B[39m\u001B[38;5;124m'\u001B[39m, \u001B[38;5;124m'\u001B[39m\u001B[38;5;124mraw/cca/Monthly_Claims/Element MDS 202209.zip\u001B[39m\u001B[38;5;124m'\u001B[39m)\n",
      "\u001B[1;31mNameError\u001B[0m: name 's3' is not defined"
     ]
    }
   ],
   "source": [
    "bucket = 'hometeam-clinical-data'\n",
    "copy_source = {\n",
    "    'Bucket': bucket,\n",
    "    'Key': 'raw/cca/Element MDS 202209.zip',\n",
    "}\n",
    "\n",
    "copy_source2 = {\n",
    "    'Bucket': bucket,\n",
    "    'Key': 'raw/cca/Element claims 202209.zip',\n",
    "}\n",
    "s3.meta.client.copy(copy_source, bucket, 'raw/cca/Monthly_Claims/Element MDS 202209.zip')\n",
    "s3.meta.client.copy(copy_source2, bucket, 'raw/cca/Monthly_Claims/Element claims 202209.zip')\n",
    "s3_object = s3.Object('hometeam-clinical-data', 'raw/cca/Monthly_Claims/Element MDS 202209.zip')\n",
    "s3_object.delete()"
   ]
  },
  {
   "cell_type": "code",
   "execution_count": 15,
   "metadata": {
    "collapsed": false
   },
   "outputs": [],
   "source": [
    "# Regex replace Service Description(s) extra char\n",
    "\n",
    "df = df.replace(r'\\W+', ' ', regex=True)\n",
    "# df['SERVICEDESCRIPTION'].str.slice(0,20)\n",
    "\n",
    "#df['SERVICEDESCRIPTION'].str.len()"
   ]
  },
  {
   "cell_type": "code",
   "execution_count": 81,
   "outputs": [
    {
     "data": {
      "text/plain": "      AUTHID    MEMBERID                     PRODUCT     CATEGORY  \\\n0  0102S1Q6D  5366000712  Senior Care Options SCO MA  Home Health   \n1  0102S38PQ  5365706182  Senior Care Options SCO MA    Procedure   \n2  0102SMODE  5365665706  Senior Care Options SCO MA  Home Health   \n3  0102SZTF9  5365576687  Senior Care Options SCO MA  Home Health   \n4  0103M2N3I  5364525974  Senior Care Options SCO MA  Home Health   \n\n            AUTHPRIORITY            RECEIVEDDATE SERVICEFROMDATE  \\\n0   Prospective Standard 2022-01-01 19:00:00.979      2022-01-07   \n1  Prospective Expedited 2022-01-02 12:04:03.994      2022-01-04   \n2   Prospective Standard 2022-01-01 18:22:10.042      2022-01-06   \n3   Prospective Standard 2022-01-02 09:42:14.976      2021-12-28   \n4   Prospective Standard 2022-01-03 12:19:37.027      2021-12-25   \n\n  SERVICETODATE                      REFERREDTO SERVICECODE  ...  \\\n0    2022-03-07           Comfort Home Care LLC       G0299  ...   \n1    2023-01-04      Matthew Jonathan Weinstock       J9312  ...   \n2    2022-03-06           Comfort Home Care LLC       G0299  ...   \n3    2022-02-25        Ideal Health Care System       G0299  ...   \n4    2022-02-22  Suburban Home Health Care Inc        G0299  ...   \n\n             DECISIONDATE        WRITTENNOTIFDATE   DEADLINE       TAT  \\\n0 2022-01-03 09:55:42.038 2022-01-03 16:59:59.971 2022-01-15     2 day   \n1 2022-01-02 21:45:54.000 2022-01-03 12:00:00.000 2022-01-06  24 hours   \n2 2022-01-03 09:03:16.042 2022-01-03 16:59:59.971 2022-01-15     2 day   \n3 2022-01-03 10:37:53.040 2022-01-03 16:59:59.971 2022-01-16     1 day   \n4 2022-01-04 08:50:18.010 2022-01-04 16:59:59.971 2022-01-17     1 day   \n\n            CMO             VERBALNOTIF    LETTERFLAG APPROVEDENIED  \\\n0  Element Care                     NaT  TimelyLetter            No   \n1  Element Care 2022-01-03 07:59:59.971  TimelyLetter            No   \n2  Element Care                     NaT  TimelyLetter            No   \n3  Element Care                     NaT  TimelyLetter            No   \n4  Element Care                     NaT  TimelyLetter            No   \n\n                 LOADDATE           ALTRUISTADATE  \n0 2022-12-05 06:37:21.994 2022-12-04 23:04:41.030  \n1 2022-12-05 06:37:21.994 2022-12-04 23:04:41.030  \n2 2022-12-05 06:37:21.994 2022-12-04 23:04:41.030  \n3 2022-12-05 06:37:21.994 2022-12-04 23:04:41.030  \n4 2022-12-05 06:37:21.994 2022-12-04 23:04:41.030  \n\n[5 rows x 23 columns]",
      "text/html": "<div>\n<style scoped>\n    .dataframe tbody tr th:only-of-type {\n        vertical-align: middle;\n    }\n\n    .dataframe tbody tr th {\n        vertical-align: top;\n    }\n\n    .dataframe thead th {\n        text-align: right;\n    }\n</style>\n<table border=\"1\" class=\"dataframe\">\n  <thead>\n    <tr style=\"text-align: right;\">\n      <th></th>\n      <th>AUTHID</th>\n      <th>MEMBERID</th>\n      <th>PRODUCT</th>\n      <th>CATEGORY</th>\n      <th>AUTHPRIORITY</th>\n      <th>RECEIVEDDATE</th>\n      <th>SERVICEFROMDATE</th>\n      <th>SERVICETODATE</th>\n      <th>REFERREDTO</th>\n      <th>SERVICECODE</th>\n      <th>...</th>\n      <th>DECISIONDATE</th>\n      <th>WRITTENNOTIFDATE</th>\n      <th>DEADLINE</th>\n      <th>TAT</th>\n      <th>CMO</th>\n      <th>VERBALNOTIF</th>\n      <th>LETTERFLAG</th>\n      <th>APPROVEDENIED</th>\n      <th>LOADDATE</th>\n      <th>ALTRUISTADATE</th>\n    </tr>\n  </thead>\n  <tbody>\n    <tr>\n      <th>0</th>\n      <td>0102S1Q6D</td>\n      <td>5366000712</td>\n      <td>Senior Care Options SCO MA</td>\n      <td>Home Health</td>\n      <td>Prospective Standard</td>\n      <td>2022-01-01 19:00:00.979</td>\n      <td>2022-01-07</td>\n      <td>2022-03-07</td>\n      <td>Comfort Home Care LLC</td>\n      <td>G0299</td>\n      <td>...</td>\n      <td>2022-01-03 09:55:42.038</td>\n      <td>2022-01-03 16:59:59.971</td>\n      <td>2022-01-15</td>\n      <td>2 day</td>\n      <td>Element Care</td>\n      <td>NaT</td>\n      <td>TimelyLetter</td>\n      <td>No</td>\n      <td>2022-12-05 06:37:21.994</td>\n      <td>2022-12-04 23:04:41.030</td>\n    </tr>\n    <tr>\n      <th>1</th>\n      <td>0102S38PQ</td>\n      <td>5365706182</td>\n      <td>Senior Care Options SCO MA</td>\n      <td>Procedure</td>\n      <td>Prospective Expedited</td>\n      <td>2022-01-02 12:04:03.994</td>\n      <td>2022-01-04</td>\n      <td>2023-01-04</td>\n      <td>Matthew Jonathan Weinstock</td>\n      <td>J9312</td>\n      <td>...</td>\n      <td>2022-01-02 21:45:54.000</td>\n      <td>2022-01-03 12:00:00.000</td>\n      <td>2022-01-06</td>\n      <td>24 hours</td>\n      <td>Element Care</td>\n      <td>2022-01-03 07:59:59.971</td>\n      <td>TimelyLetter</td>\n      <td>No</td>\n      <td>2022-12-05 06:37:21.994</td>\n      <td>2022-12-04 23:04:41.030</td>\n    </tr>\n    <tr>\n      <th>2</th>\n      <td>0102SMODE</td>\n      <td>5365665706</td>\n      <td>Senior Care Options SCO MA</td>\n      <td>Home Health</td>\n      <td>Prospective Standard</td>\n      <td>2022-01-01 18:22:10.042</td>\n      <td>2022-01-06</td>\n      <td>2022-03-06</td>\n      <td>Comfort Home Care LLC</td>\n      <td>G0299</td>\n      <td>...</td>\n      <td>2022-01-03 09:03:16.042</td>\n      <td>2022-01-03 16:59:59.971</td>\n      <td>2022-01-15</td>\n      <td>2 day</td>\n      <td>Element Care</td>\n      <td>NaT</td>\n      <td>TimelyLetter</td>\n      <td>No</td>\n      <td>2022-12-05 06:37:21.994</td>\n      <td>2022-12-04 23:04:41.030</td>\n    </tr>\n    <tr>\n      <th>3</th>\n      <td>0102SZTF9</td>\n      <td>5365576687</td>\n      <td>Senior Care Options SCO MA</td>\n      <td>Home Health</td>\n      <td>Prospective Standard</td>\n      <td>2022-01-02 09:42:14.976</td>\n      <td>2021-12-28</td>\n      <td>2022-02-25</td>\n      <td>Ideal Health Care System</td>\n      <td>G0299</td>\n      <td>...</td>\n      <td>2022-01-03 10:37:53.040</td>\n      <td>2022-01-03 16:59:59.971</td>\n      <td>2022-01-16</td>\n      <td>1 day</td>\n      <td>Element Care</td>\n      <td>NaT</td>\n      <td>TimelyLetter</td>\n      <td>No</td>\n      <td>2022-12-05 06:37:21.994</td>\n      <td>2022-12-04 23:04:41.030</td>\n    </tr>\n    <tr>\n      <th>4</th>\n      <td>0103M2N3I</td>\n      <td>5364525974</td>\n      <td>Senior Care Options SCO MA</td>\n      <td>Home Health</td>\n      <td>Prospective Standard</td>\n      <td>2022-01-03 12:19:37.027</td>\n      <td>2021-12-25</td>\n      <td>2022-02-22</td>\n      <td>Suburban Home Health Care Inc</td>\n      <td>G0299</td>\n      <td>...</td>\n      <td>2022-01-04 08:50:18.010</td>\n      <td>2022-01-04 16:59:59.971</td>\n      <td>2022-01-17</td>\n      <td>1 day</td>\n      <td>Element Care</td>\n      <td>NaT</td>\n      <td>TimelyLetter</td>\n      <td>No</td>\n      <td>2022-12-05 06:37:21.994</td>\n      <td>2022-12-04 23:04:41.030</td>\n    </tr>\n  </tbody>\n</table>\n<p>5 rows × 23 columns</p>\n</div>"
     },
     "execution_count": 81,
     "metadata": {},
     "output_type": "execute_result"
    }
   ],
   "source": [
    "\n",
    "df.head()"
   ],
   "metadata": {
    "collapsed": false
   }
  },
  {
   "cell_type": "code",
   "execution_count": null,
   "outputs": [],
   "source": [
    "df = df.rename(columns={\"AUTH_ID\": \"AUTHID\",\n",
    "                        \"CCAID\": \"MEMBERID\",\n",
    "                        \"Product\": \"PRODUCT\",\n",
    "                        \"cat\": \"CATEGORY\",\n",
    "                        \"auth_priority\": \"AUTHPRIORITY\",\n",
    "                        \"Received_Date\": \"RECEIVEDDATE\",\n",
    "                        \"min_SERVICE_FROM_DATE\": \"SERVICEFROMDATE\",\n",
    "                        \"max_SERVICE_to_DATE\": \"SERVICETODATE\",\n",
    "                        \"Referred To/Facility\": \"REFERREDTO\",\n",
    "                        \"Service Code(s)\": \"SERVICECODE\",\n",
    "                        \"Service Description(s)\": \"SERVICEDESCRIPTION\",\n",
    "                        \"IS_extension\": \"ISEXTENSION\",\n",
    "                        \"OverallDecision\": \"OVERALLDECISION\",\n",
    "                        \"Decision_Date\": \"DECISIONDATE\",\n",
    "                        \"WrittenNotifDate\": \"WRITTENNOTIFDATE\",\n",
    "                        \"deadline\": \"DEADLINE\",\n",
    "                        \"TAT\": \"TAT\",\n",
    "                        \"CMO\": \"CMO\",\n",
    "                        \"Verbal_Notification_Fixed_New\": \"VERBALNOTIF\",\n",
    "                        \"Letter Flag\": \"LETTERFLAG\",\n",
    "                        \"Admin Approval or Admin Denial\": \"APPROVEDENIED\",\n",
    "                        \"LoadDate\": \"LOADDATE\",\n",
    "                        \"Altruista_updatedate\": \"ALTRUISTADATE\", })"
   ],
   "metadata": {
    "collapsed": false
   }
  },
  {
   "cell_type": "code",
   "execution_count": 96,
   "outputs": [],
   "source": [],
   "metadata": {
    "collapsed": false
   }
  },
  {
   "cell_type": "code",
   "execution_count": 105,
   "outputs": [
    {
     "ename": "ModuleNotFoundError",
     "evalue": "No module named 'snowflake.sqlalchemy'",
     "output_type": "error",
     "traceback": [
      "\u001B[1;31m---------------------------------------------------------------------------\u001B[0m",
      "\u001B[1;31mModuleNotFoundError\u001B[0m                       Traceback (most recent call last)",
      "Input \u001B[1;32mIn [105]\u001B[0m, in \u001B[0;36m<cell line: 9>\u001B[1;34m()\u001B[0m\n\u001B[0;32m      6\u001B[0m password \u001B[38;5;241m=\u001B[39m os\u001B[38;5;241m.\u001B[39mgetenv(\u001B[38;5;124m'\u001B[39m\u001B[38;5;124mSnowflake_password\u001B[39m\u001B[38;5;124m'\u001B[39m)\n\u001B[0;32m      8\u001B[0m conn_string \u001B[38;5;241m=\u001B[39m \u001B[38;5;124mf\u001B[39m\u001B[38;5;124m\"\u001B[39m\u001B[38;5;124msnowflake://\u001B[39m\u001B[38;5;132;01m{\u001B[39;00muser\u001B[38;5;132;01m}\u001B[39;00m\u001B[38;5;124m:\u001B[39m\u001B[38;5;132;01m{\u001B[39;00mpassword\u001B[38;5;132;01m}\u001B[39;00m\u001B[38;5;124m@\u001B[39m\u001B[38;5;132;01m{\u001B[39;00maccount_identifier\u001B[38;5;132;01m}\u001B[39;00m\u001B[38;5;124m/\u001B[39m\u001B[38;5;124m\"\u001B[39m\n\u001B[1;32m----> 9\u001B[0m engine \u001B[38;5;241m=\u001B[39m \u001B[43mcreate_engine\u001B[49m\u001B[43m(\u001B[49m\u001B[43mconn_string\u001B[49m\u001B[43m)\u001B[49m\n",
      "File \u001B[1;32m<string>:2\u001B[0m, in \u001B[0;36mcreate_engine\u001B[1;34m(url, **kwargs)\u001B[0m\n",
      "File \u001B[1;32m~\\anaconda3\\envs\\NewBase\\lib\\site-packages\\sqlalchemy\\util\\deprecations.py:309\u001B[0m, in \u001B[0;36mdeprecated_params.<locals>.decorate.<locals>.warned\u001B[1;34m(fn, *args, **kwargs)\u001B[0m\n\u001B[0;32m    302\u001B[0m     \u001B[38;5;28;01mif\u001B[39;00m m \u001B[38;5;129;01min\u001B[39;00m kwargs:\n\u001B[0;32m    303\u001B[0m         _warn_with_version(\n\u001B[0;32m    304\u001B[0m             messages[m],\n\u001B[0;32m    305\u001B[0m             versions[m],\n\u001B[0;32m    306\u001B[0m             version_warnings[m],\n\u001B[0;32m    307\u001B[0m             stacklevel\u001B[38;5;241m=\u001B[39m\u001B[38;5;241m3\u001B[39m,\n\u001B[0;32m    308\u001B[0m         )\n\u001B[1;32m--> 309\u001B[0m \u001B[38;5;28;01mreturn\u001B[39;00m fn(\u001B[38;5;241m*\u001B[39margs, \u001B[38;5;241m*\u001B[39m\u001B[38;5;241m*\u001B[39mkwargs)\n",
      "File \u001B[1;32m~\\anaconda3\\envs\\NewBase\\lib\\site-packages\\sqlalchemy\\engine\\create.py:534\u001B[0m, in \u001B[0;36mcreate_engine\u001B[1;34m(url, **kwargs)\u001B[0m\n\u001B[0;32m    530\u001B[0m u \u001B[38;5;241m=\u001B[39m _url\u001B[38;5;241m.\u001B[39mmake_url(url)\n\u001B[0;32m    532\u001B[0m u, plugins, kwargs \u001B[38;5;241m=\u001B[39m u\u001B[38;5;241m.\u001B[39m_instantiate_plugins(kwargs)\n\u001B[1;32m--> 534\u001B[0m entrypoint \u001B[38;5;241m=\u001B[39m \u001B[43mu\u001B[49m\u001B[38;5;241;43m.\u001B[39;49m\u001B[43m_get_entrypoint\u001B[49m\u001B[43m(\u001B[49m\u001B[43m)\u001B[49m\n\u001B[0;32m    535\u001B[0m dialect_cls \u001B[38;5;241m=\u001B[39m entrypoint\u001B[38;5;241m.\u001B[39mget_dialect_cls(u)\n\u001B[0;32m    537\u001B[0m \u001B[38;5;28;01mif\u001B[39;00m kwargs\u001B[38;5;241m.\u001B[39mpop(\u001B[38;5;124m\"\u001B[39m\u001B[38;5;124m_coerce_config\u001B[39m\u001B[38;5;124m\"\u001B[39m, \u001B[38;5;28;01mFalse\u001B[39;00m):\n",
      "File \u001B[1;32m~\\anaconda3\\envs\\NewBase\\lib\\site-packages\\sqlalchemy\\engine\\url.py:655\u001B[0m, in \u001B[0;36mURL._get_entrypoint\u001B[1;34m(self)\u001B[0m\n\u001B[0;32m    653\u001B[0m \u001B[38;5;28;01melse\u001B[39;00m:\n\u001B[0;32m    654\u001B[0m     name \u001B[38;5;241m=\u001B[39m \u001B[38;5;28mself\u001B[39m\u001B[38;5;241m.\u001B[39mdrivername\u001B[38;5;241m.\u001B[39mreplace(\u001B[38;5;124m\"\u001B[39m\u001B[38;5;124m+\u001B[39m\u001B[38;5;124m\"\u001B[39m, \u001B[38;5;124m\"\u001B[39m\u001B[38;5;124m.\u001B[39m\u001B[38;5;124m\"\u001B[39m)\n\u001B[1;32m--> 655\u001B[0m \u001B[38;5;28mcls\u001B[39m \u001B[38;5;241m=\u001B[39m \u001B[43mregistry\u001B[49m\u001B[38;5;241;43m.\u001B[39;49m\u001B[43mload\u001B[49m\u001B[43m(\u001B[49m\u001B[43mname\u001B[49m\u001B[43m)\u001B[49m\n\u001B[0;32m    656\u001B[0m \u001B[38;5;66;03m# check for legacy dialects that\u001B[39;00m\n\u001B[0;32m    657\u001B[0m \u001B[38;5;66;03m# would return a module with 'dialect' as the\u001B[39;00m\n\u001B[0;32m    658\u001B[0m \u001B[38;5;66;03m# actual class\u001B[39;00m\n\u001B[0;32m    659\u001B[0m \u001B[38;5;28;01mif\u001B[39;00m (\n\u001B[0;32m    660\u001B[0m     \u001B[38;5;28mhasattr\u001B[39m(\u001B[38;5;28mcls\u001B[39m, \u001B[38;5;124m\"\u001B[39m\u001B[38;5;124mdialect\u001B[39m\u001B[38;5;124m\"\u001B[39m)\n\u001B[0;32m    661\u001B[0m     \u001B[38;5;129;01mand\u001B[39;00m \u001B[38;5;28misinstance\u001B[39m(\u001B[38;5;28mcls\u001B[39m\u001B[38;5;241m.\u001B[39mdialect, \u001B[38;5;28mtype\u001B[39m)\n\u001B[0;32m    662\u001B[0m     \u001B[38;5;129;01mand\u001B[39;00m \u001B[38;5;28missubclass\u001B[39m(\u001B[38;5;28mcls\u001B[39m\u001B[38;5;241m.\u001B[39mdialect, Dialect)\n\u001B[0;32m    663\u001B[0m ):\n",
      "File \u001B[1;32m~\\anaconda3\\envs\\NewBase\\lib\\site-packages\\sqlalchemy\\util\\langhelpers.py:330\u001B[0m, in \u001B[0;36mPluginLoader.load\u001B[1;34m(self, name)\u001B[0m\n\u001B[0;32m    328\u001B[0m \u001B[38;5;28;01mdef\u001B[39;00m \u001B[38;5;21mload\u001B[39m(\u001B[38;5;28mself\u001B[39m, name):\n\u001B[0;32m    329\u001B[0m     \u001B[38;5;28;01mif\u001B[39;00m name \u001B[38;5;129;01min\u001B[39;00m \u001B[38;5;28mself\u001B[39m\u001B[38;5;241m.\u001B[39mimpls:\n\u001B[1;32m--> 330\u001B[0m         \u001B[38;5;28;01mreturn\u001B[39;00m \u001B[38;5;28;43mself\u001B[39;49m\u001B[38;5;241;43m.\u001B[39;49m\u001B[43mimpls\u001B[49m\u001B[43m[\u001B[49m\u001B[43mname\u001B[49m\u001B[43m]\u001B[49m\u001B[43m(\u001B[49m\u001B[43m)\u001B[49m\n\u001B[0;32m    332\u001B[0m     \u001B[38;5;28;01mif\u001B[39;00m \u001B[38;5;28mself\u001B[39m\u001B[38;5;241m.\u001B[39mauto_fn:\n\u001B[0;32m    333\u001B[0m         loader \u001B[38;5;241m=\u001B[39m \u001B[38;5;28mself\u001B[39m\u001B[38;5;241m.\u001B[39mauto_fn(name)\n",
      "File \u001B[1;32m~\\anaconda3\\envs\\NewBase\\lib\\site-packages\\sqlalchemy\\util\\langhelpers.py:349\u001B[0m, in \u001B[0;36mPluginLoader.register.<locals>.load\u001B[1;34m()\u001B[0m\n\u001B[0;32m    348\u001B[0m \u001B[38;5;28;01mdef\u001B[39;00m \u001B[38;5;21mload\u001B[39m():\n\u001B[1;32m--> 349\u001B[0m     mod \u001B[38;5;241m=\u001B[39m \u001B[43mcompat\u001B[49m\u001B[38;5;241;43m.\u001B[39;49m\u001B[43mimport_\u001B[49m\u001B[43m(\u001B[49m\u001B[43mmodulepath\u001B[49m\u001B[43m)\u001B[49m\n\u001B[0;32m    350\u001B[0m     \u001B[38;5;28;01mfor\u001B[39;00m token \u001B[38;5;129;01min\u001B[39;00m modulepath\u001B[38;5;241m.\u001B[39msplit(\u001B[38;5;124m\"\u001B[39m\u001B[38;5;124m.\u001B[39m\u001B[38;5;124m\"\u001B[39m)[\u001B[38;5;241m1\u001B[39m:]:\n\u001B[0;32m    351\u001B[0m         mod \u001B[38;5;241m=\u001B[39m \u001B[38;5;28mgetattr\u001B[39m(mod, token)\n",
      "\u001B[1;31mModuleNotFoundError\u001B[0m: No module named 'snowflake.sqlalchemy'"
     ]
    }
   ],
   "source": [
    "#Create connection to Snowflake using your account and user\n",
    "\n",
    "\n",
    "account_identifier = os.getenv('Snowflake_account')\n",
    "user = os.getenv('Snowflake_User')\n",
    "password = os.getenv('Snowflake_password')\n",
    "\n",
    "conn_string = f\"snowflake://{user}:{password}@{account_identifier}/\"\n",
    "engine = create_engine(conn_string)"
   ],
   "metadata": {
    "collapsed": false
   }
  },
  {
   "cell_type": "code",
   "execution_count": 73,
   "metadata": {
    "collapsed": false
   },
   "outputs": [
    {
     "name": "stdout",
     "output_type": "stream",
     "text": [
      "Successful Connection\n"
     ]
    }
   ],
   "source": [
    "start_time = time.time()\n",
    "#Creating of parameters for securing connection to Snowflake-credentials stored in local environment variables\n",
    "username = os.getenv('Snowflake_User')\n",
    "password = os.getenv('Snowflake_password')\n",
    "account = os.getenv('Snowflake_account')\n",
    "\n",
    "#Define parameters if neccessary\n",
    "warehouse = 'DEVELOPER_STANDARD'\n",
    "database = 'VESTA_DEVELOPMENT'\n",
    "schema = 'ANALYST_SANDBOX'\n",
    "\n",
    "#Create connection object for Snowflake connection\n",
    "conn = sf.connect(user=username, password=password, account=account, warehouse=warehouse)\n",
    "\n",
    "\n",
    "#Execution function\n",
    "def execute_query(connection, query):\n",
    "    cursor = connection.cursor()\n",
    "    cursor.execute(query)\n",
    "    cursor.close\n",
    "\n",
    "\n",
    "#Define Database to use in Snowflake\n",
    "sql = 'USE DATABASE {}'.format(database)\n",
    "execute_query(conn, sql)\n",
    "\n",
    "#Define Schema to use in Snowflake\n",
    "sql = 'USE SCHEMA {}.{}'.format(database, schema)\n",
    "execute_query(conn, sql)\n",
    "\n",
    "#Define Warehouse to use in Snowflake\n",
    "sql = 'USE WAREHOUSE {}'.format(warehouse)\n",
    "execute_query(conn, sql)\n",
    "\n",
    "print('Successful Connection')"
   ]
  },
  {
   "cell_type": "code",
   "execution_count": 77,
   "outputs": [],
   "source": [
    "\n",
    "try:\n",
    "    sql = 'DROP TABLE IF EXISTS CCA_AUTH_RAW_TEST_NEW'\n",
    "    execute_query(conn, sql)\n",
    "\n",
    "except Exception as e:\n",
    "    print(e)\n"
   ],
   "metadata": {
    "collapsed": false
   }
  },
  {
   "cell_type": "code",
   "execution_count": null,
   "outputs": [],
   "source": [
    "try:\n",
    "    sql = 'CREATE TABLE IF NOT EXISTS CCA_AUTH_RAW_TEST_NEW'\n",
    "    execute_query(conn, sql)\n",
    "\n",
    "except Exception as e:\n",
    "    print(e)\n"
   ],
   "metadata": {
    "collapsed": false
   }
  },
  {
   "cell_type": "code",
   "execution_count": null,
   "outputs": [],
   "source": [
    "try:\n",
    "    sql = '''COPY INTO CCA_AUTH_RAW_TEST_NEW'''\n",
    "    execute_query(conn, sql)\n",
    "\n",
    "    success, nchucks, nrows, _ = df.to_sql('CCA_AUTH_RAW_TEST_NEW',conn, df)\n",
    "\n",
    "except Exception as e:\n",
    "    print(e)\n",
    "print('DataFrame successfully appended to Auth Table in Snowflake at ' + time.strftime('%Y-%m-%d %H:%M:%S',\n",
    "                                                                                       time.localtime(time.time())))"
   ],
   "metadata": {
    "collapsed": false
   }
  },
  {
   "cell_type": "code",
   "execution_count": 78,
   "outputs": [
    {
     "name": "stdout",
     "output_type": "stream",
     "text": [
      "DataFrame successfully appended to Auth Table in Snowflake at 2022-12-13 16:34:40\n"
     ]
    }
   ],
   "source": [
    "try:\n",
    "    sql = '''CREATE TABLE IF NOT EXISTS CCA_AUTH_RAW_TEST_NEW (AUTHID VARCHAR(200), MEMBERID VARCHAR(200), PRODUCT VARCHAR(200), CATEGORY VARCHAR(200), AUTHPRIORITY VARCHAR(200), RECEIVEDDATE VARCHAR(200), SERVICEFROMDATE VARCHAR(200), SERVICETODATE VARCHAR(200), REFERREDTO VARCHAR(200), SERVICECODE VARCHAR(200), SERVICEDESCRIPTION VARCHAR(2200), ISEXTENSION VARCHAR(200), OVERALLDECISION VARCHAR(200), DECISIONDATE VARCHAR(200),  WRITTENNOTIFDATE VARCHAR(200), DEADLINE VARCHAR(200), TAT VARCHAR(200), CMO VARCHAR(200), VERBALNOTIF VARCHAR(200), LETTERFLAG VARCHAR(200), APPROVEDENIED VARCHAR(200), LOADDATE VARCHAR(200), ALTRUISTADATE VARCHAR(200))'''\n",
    "    execute_query(conn, sql)\n",
    "\n",
    "    success, nchucks, nrows, _ = write_pandas(conn, df, 'CCA_AUTH_RAW_TEST_NEW')\n",
    "\n",
    "except Exception as e:\n",
    "    print(e)\n",
    "print('DataFrame successfully appended to Auth Table in Snowflake at ' + time.strftime('%Y-%m-%d %H:%M:%S',\n",
    "                                                                                       time.localtime(time.time())))"
   ],
   "metadata": {
    "collapsed": false
   }
  },
  {
   "cell_type": "code",
   "execution_count": 79,
   "outputs": [
    {
     "ename": "ProgrammingError",
     "evalue": "001003 (42000): SQL compilation error:\nsyntax error line 2 at position 17 unexpected 'to_timestamp'.\nsyntax error line 3 at position 16 unexpected 'to_timestamp'.\nsyntax error line 4 at position 14 unexpected 'to_timestamp'.\nsyntax error line 5 at position 13 unexpected 'to_timestamp'.",
     "output_type": "error",
     "traceback": [
      "\u001B[1;31m---------------------------------------------------------------------------\u001B[0m",
      "\u001B[1;31mProgrammingError\u001B[0m                          Traceback (most recent call last)",
      "Input \u001B[1;32mIn [79]\u001B[0m, in \u001B[0;36m<cell line: 10>\u001B[1;34m()\u001B[0m\n\u001B[0;32m      1\u001B[0m sql \u001B[38;5;241m=\u001B[39m \u001B[38;5;124m'''\u001B[39m\u001B[38;5;124mUPDATE VESTA_DEVELOPMENT.ANALYST_SANDBOX.CCA_AUTH_RAW_TEST_NEW \u001B[39m\n\u001B[0;32m      2\u001B[0m \u001B[38;5;124mset receiveddate to_timestamp(receiveddate),\u001B[39m\n\u001B[0;32m      3\u001B[0m \u001B[38;5;124mservicefromdate to_timestamp(servicefromdate),\u001B[39m\n\u001B[1;32m   (...)\u001B[0m\n\u001B[0;32m      8\u001B[0m \u001B[38;5;124m    loaddate = to_timestamp(loaddate),\u001B[39m\n\u001B[0;32m      9\u001B[0m \u001B[38;5;124m    altruistadate = to_timestamp(altruistadate)\u001B[39m\u001B[38;5;124m'''\u001B[39m\n\u001B[1;32m---> 10\u001B[0m \u001B[43mexecute_query\u001B[49m\u001B[43m(\u001B[49m\u001B[43mconn\u001B[49m\u001B[43m,\u001B[49m\u001B[43m \u001B[49m\u001B[43msql\u001B[49m\u001B[43m)\u001B[49m\n",
      "Input \u001B[1;32mIn [73]\u001B[0m, in \u001B[0;36mexecute_query\u001B[1;34m(connection, query)\u001B[0m\n\u001B[0;32m     17\u001B[0m \u001B[38;5;28;01mdef\u001B[39;00m \u001B[38;5;21mexecute_query\u001B[39m(connection, query):\n\u001B[0;32m     18\u001B[0m     cursor \u001B[38;5;241m=\u001B[39m connection\u001B[38;5;241m.\u001B[39mcursor()\n\u001B[1;32m---> 19\u001B[0m     \u001B[43mcursor\u001B[49m\u001B[38;5;241;43m.\u001B[39;49m\u001B[43mexecute\u001B[49m\u001B[43m(\u001B[49m\u001B[43mquery\u001B[49m\u001B[43m)\u001B[49m\n\u001B[0;32m     20\u001B[0m     cursor\u001B[38;5;241m.\u001B[39mclose\n",
      "File \u001B[1;32m~\\anaconda3\\envs\\NewBase\\lib\\site-packages\\snowflake\\connector\\cursor.py:804\u001B[0m, in \u001B[0;36mSnowflakeCursor.execute\u001B[1;34m(self, command, params, _bind_stage, timeout, _exec_async, _no_retry, _do_reset, _put_callback, _put_azure_callback, _put_callback_output_stream, _get_callback, _get_azure_callback, _get_callback_output_stream, _show_progress_bar, _statement_params, _is_internal, _describe_only, _no_results, _is_put_get, _raise_put_get_error, _force_put_overwrite, file_stream)\u001B[0m\n\u001B[0;32m    800\u001B[0m     is_integrity_error \u001B[38;5;241m=\u001B[39m (\n\u001B[0;32m    801\u001B[0m         code \u001B[38;5;241m==\u001B[39m \u001B[38;5;124m\"\u001B[39m\u001B[38;5;124m100072\u001B[39m\u001B[38;5;124m\"\u001B[39m\n\u001B[0;32m    802\u001B[0m     )  \u001B[38;5;66;03m# NULL result in a non-nullable column\u001B[39;00m\n\u001B[0;32m    803\u001B[0m     error_class \u001B[38;5;241m=\u001B[39m IntegrityError \u001B[38;5;28;01mif\u001B[39;00m is_integrity_error \u001B[38;5;28;01melse\u001B[39;00m ProgrammingError\n\u001B[1;32m--> 804\u001B[0m     \u001B[43mError\u001B[49m\u001B[38;5;241;43m.\u001B[39;49m\u001B[43merrorhandler_wrapper\u001B[49m\u001B[43m(\u001B[49m\u001B[38;5;28;43mself\u001B[39;49m\u001B[38;5;241;43m.\u001B[39;49m\u001B[43mconnection\u001B[49m\u001B[43m,\u001B[49m\u001B[43m \u001B[49m\u001B[38;5;28;43mself\u001B[39;49m\u001B[43m,\u001B[49m\u001B[43m \u001B[49m\u001B[43merror_class\u001B[49m\u001B[43m,\u001B[49m\u001B[43m \u001B[49m\u001B[43merrvalue\u001B[49m\u001B[43m)\u001B[49m\n\u001B[0;32m    805\u001B[0m \u001B[38;5;28;01mreturn\u001B[39;00m \u001B[38;5;28mself\u001B[39m\n",
      "File \u001B[1;32m~\\anaconda3\\envs\\NewBase\\lib\\site-packages\\snowflake\\connector\\errors.py:276\u001B[0m, in \u001B[0;36mError.errorhandler_wrapper\u001B[1;34m(connection, cursor, error_class, error_value)\u001B[0m\n\u001B[0;32m    253\u001B[0m \u001B[38;5;129m@staticmethod\u001B[39m\n\u001B[0;32m    254\u001B[0m \u001B[38;5;28;01mdef\u001B[39;00m \u001B[38;5;21merrorhandler_wrapper\u001B[39m(\n\u001B[0;32m    255\u001B[0m     connection: SnowflakeConnection \u001B[38;5;241m|\u001B[39m \u001B[38;5;28;01mNone\u001B[39;00m,\n\u001B[1;32m   (...)\u001B[0m\n\u001B[0;32m    258\u001B[0m     error_value: \u001B[38;5;28mdict\u001B[39m[\u001B[38;5;28mstr\u001B[39m, \u001B[38;5;28mstr\u001B[39m \u001B[38;5;241m|\u001B[39m \u001B[38;5;28mbool\u001B[39m \u001B[38;5;241m|\u001B[39m \u001B[38;5;28mint\u001B[39m],\n\u001B[0;32m    259\u001B[0m ) \u001B[38;5;241m-\u001B[39m\u001B[38;5;241m>\u001B[39m \u001B[38;5;28;01mNone\u001B[39;00m:\n\u001B[0;32m    260\u001B[0m     \u001B[38;5;124;03m\"\"\"Error handler wrapper that calls the errorhandler method.\u001B[39;00m\n\u001B[0;32m    261\u001B[0m \n\u001B[0;32m    262\u001B[0m \u001B[38;5;124;03m    Args:\u001B[39;00m\n\u001B[1;32m   (...)\u001B[0m\n\u001B[0;32m    273\u001B[0m \u001B[38;5;124;03m        exception to the first handler in that order.\u001B[39;00m\n\u001B[0;32m    274\u001B[0m \u001B[38;5;124;03m    \"\"\"\u001B[39;00m\n\u001B[1;32m--> 276\u001B[0m     handed_over \u001B[38;5;241m=\u001B[39m \u001B[43mError\u001B[49m\u001B[38;5;241;43m.\u001B[39;49m\u001B[43mhand_to_other_handler\u001B[49m\u001B[43m(\u001B[49m\n\u001B[0;32m    277\u001B[0m \u001B[43m        \u001B[49m\u001B[43mconnection\u001B[49m\u001B[43m,\u001B[49m\n\u001B[0;32m    278\u001B[0m \u001B[43m        \u001B[49m\u001B[43mcursor\u001B[49m\u001B[43m,\u001B[49m\n\u001B[0;32m    279\u001B[0m \u001B[43m        \u001B[49m\u001B[43merror_class\u001B[49m\u001B[43m,\u001B[49m\n\u001B[0;32m    280\u001B[0m \u001B[43m        \u001B[49m\u001B[43merror_value\u001B[49m\u001B[43m,\u001B[49m\n\u001B[0;32m    281\u001B[0m \u001B[43m    \u001B[49m\u001B[43m)\u001B[49m\n\u001B[0;32m    282\u001B[0m     \u001B[38;5;28;01mif\u001B[39;00m \u001B[38;5;129;01mnot\u001B[39;00m handed_over:\n\u001B[0;32m    283\u001B[0m         \u001B[38;5;28;01mraise\u001B[39;00m Error\u001B[38;5;241m.\u001B[39merrorhandler_make_exception(\n\u001B[0;32m    284\u001B[0m             error_class,\n\u001B[0;32m    285\u001B[0m             error_value,\n\u001B[0;32m    286\u001B[0m         )\n",
      "File \u001B[1;32m~\\anaconda3\\envs\\NewBase\\lib\\site-packages\\snowflake\\connector\\errors.py:331\u001B[0m, in \u001B[0;36mError.hand_to_other_handler\u001B[1;34m(connection, cursor, error_class, error_value)\u001B[0m\n\u001B[0;32m    329\u001B[0m \u001B[38;5;28;01mif\u001B[39;00m cursor \u001B[38;5;129;01mis\u001B[39;00m \u001B[38;5;129;01mnot\u001B[39;00m \u001B[38;5;28;01mNone\u001B[39;00m:\n\u001B[0;32m    330\u001B[0m     cursor\u001B[38;5;241m.\u001B[39mmessages\u001B[38;5;241m.\u001B[39mappend((error_class, error_value))\n\u001B[1;32m--> 331\u001B[0m     \u001B[43mcursor\u001B[49m\u001B[38;5;241;43m.\u001B[39;49m\u001B[43merrorhandler\u001B[49m\u001B[43m(\u001B[49m\u001B[43mconnection\u001B[49m\u001B[43m,\u001B[49m\u001B[43m \u001B[49m\u001B[43mcursor\u001B[49m\u001B[43m,\u001B[49m\u001B[43m \u001B[49m\u001B[43merror_class\u001B[49m\u001B[43m,\u001B[49m\u001B[43m \u001B[49m\u001B[43merror_value\u001B[49m\u001B[43m)\u001B[49m\n\u001B[0;32m    332\u001B[0m     \u001B[38;5;28;01mreturn\u001B[39;00m \u001B[38;5;28;01mTrue\u001B[39;00m\n\u001B[0;32m    333\u001B[0m \u001B[38;5;28;01melif\u001B[39;00m connection \u001B[38;5;129;01mis\u001B[39;00m \u001B[38;5;129;01mnot\u001B[39;00m \u001B[38;5;28;01mNone\u001B[39;00m:\n",
      "File \u001B[1;32m~\\anaconda3\\envs\\NewBase\\lib\\site-packages\\snowflake\\connector\\errors.py:210\u001B[0m, in \u001B[0;36mError.default_errorhandler\u001B[1;34m(connection, cursor, error_class, error_value)\u001B[0m\n\u001B[0;32m    192\u001B[0m \u001B[38;5;129m@staticmethod\u001B[39m\n\u001B[0;32m    193\u001B[0m \u001B[38;5;28;01mdef\u001B[39;00m \u001B[38;5;21mdefault_errorhandler\u001B[39m(\n\u001B[0;32m    194\u001B[0m     connection: SnowflakeConnection,\n\u001B[1;32m   (...)\u001B[0m\n\u001B[0;32m    197\u001B[0m     error_value: \u001B[38;5;28mdict\u001B[39m[\u001B[38;5;28mstr\u001B[39m, \u001B[38;5;28mstr\u001B[39m],\n\u001B[0;32m    198\u001B[0m ) \u001B[38;5;241m-\u001B[39m\u001B[38;5;241m>\u001B[39m \u001B[38;5;28;01mNone\u001B[39;00m:\n\u001B[0;32m    199\u001B[0m     \u001B[38;5;124;03m\"\"\"Default error handler that raises an error.\u001B[39;00m\n\u001B[0;32m    200\u001B[0m \n\u001B[0;32m    201\u001B[0m \u001B[38;5;124;03m    Args:\u001B[39;00m\n\u001B[1;32m   (...)\u001B[0m\n\u001B[0;32m    208\u001B[0m \u001B[38;5;124;03m        A Snowflake error.\u001B[39;00m\n\u001B[0;32m    209\u001B[0m \u001B[38;5;124;03m    \"\"\"\u001B[39;00m\n\u001B[1;32m--> 210\u001B[0m     \u001B[38;5;28;01mraise\u001B[39;00m error_class(\n\u001B[0;32m    211\u001B[0m         msg\u001B[38;5;241m=\u001B[39merror_value\u001B[38;5;241m.\u001B[39mget(\u001B[38;5;124m\"\u001B[39m\u001B[38;5;124mmsg\u001B[39m\u001B[38;5;124m\"\u001B[39m),\n\u001B[0;32m    212\u001B[0m         errno\u001B[38;5;241m=\u001B[39merror_value\u001B[38;5;241m.\u001B[39mget(\u001B[38;5;124m\"\u001B[39m\u001B[38;5;124merrno\u001B[39m\u001B[38;5;124m\"\u001B[39m),\n\u001B[0;32m    213\u001B[0m         sqlstate\u001B[38;5;241m=\u001B[39merror_value\u001B[38;5;241m.\u001B[39mget(\u001B[38;5;124m\"\u001B[39m\u001B[38;5;124msqlstate\u001B[39m\u001B[38;5;124m\"\u001B[39m),\n\u001B[0;32m    214\u001B[0m         sfqid\u001B[38;5;241m=\u001B[39merror_value\u001B[38;5;241m.\u001B[39mget(\u001B[38;5;124m\"\u001B[39m\u001B[38;5;124msfqid\u001B[39m\u001B[38;5;124m\"\u001B[39m),\n\u001B[0;32m    215\u001B[0m         done_format_msg\u001B[38;5;241m=\u001B[39merror_value\u001B[38;5;241m.\u001B[39mget(\u001B[38;5;124m\"\u001B[39m\u001B[38;5;124mdone_format_msg\u001B[39m\u001B[38;5;124m\"\u001B[39m),\n\u001B[0;32m    216\u001B[0m         connection\u001B[38;5;241m=\u001B[39mconnection,\n\u001B[0;32m    217\u001B[0m         cursor\u001B[38;5;241m=\u001B[39mcursor,\n\u001B[0;32m    218\u001B[0m     )\n",
      "\u001B[1;31mProgrammingError\u001B[0m: 001003 (42000): SQL compilation error:\nsyntax error line 2 at position 17 unexpected 'to_timestamp'.\nsyntax error line 3 at position 16 unexpected 'to_timestamp'.\nsyntax error line 4 at position 14 unexpected 'to_timestamp'.\nsyntax error line 5 at position 13 unexpected 'to_timestamp'."
     ]
    }
   ],
   "source": [
    "# UPDATE VESTA_DEVELOPMENT.ANALYST_SANDBOX.CCA_AUTH_RAW_TEST_NEW\n",
    "# set receiveddate to_timestamp(receiveddate),\n",
    "# servicefromdate to_timestamp(servicefromdate),\n",
    "# servicetodate to_timestamp(servicetodate),\n",
    "# decisiondate to_timestamp(decisiondate),\n",
    "# writtennotifdate = to_timestamp(writtennotifdate),\n",
    "#     deadline = to_timestamp(deadline),\n",
    "#     loaddate = to_timestamp(loaddate),\n",
    "#     altruistadate = to_timestamp(altruistadate)\n"
   ],
   "metadata": {
    "collapsed": false
   }
  },
  {
   "cell_type": "code",
   "execution_count": 27,
   "outputs": [
    {
     "ename": "IndentationError",
     "evalue": "expected an indented block (4196269275.py, line 3)",
     "output_type": "error",
     "traceback": [
      "\u001B[1;36m  Input \u001B[1;32mIn [27]\u001B[1;36m\u001B[0m\n\u001B[1;33m    sql = 'CREATE TABLE IF NOT EXISTS CCA_AUTH_RAW_TEST_NEW '\u001B[0m\n\u001B[1;37m    ^\u001B[0m\n\u001B[1;31mIndentationError\u001B[0m\u001B[1;31m:\u001B[0m expected an indented block\n"
     ]
    }
   ],
   "source": [
    "    # Query to Snowflake\n",
    "try:\n",
    "    sql = 'CREATE TABLE IF NOT EXISTS CCA_AUTH_RAW_TEST_NEW'\n",
    "    # sql = '''CREATE TABLE IF NOT EXISTS CCA_AUTH_RAW_TEST_NEW (AUTHID VARCHAR(200), MEMBERID VARCHAR(200), PRODUCT VARCHAR(200), CATEGORY VARCHAR(200), AUTHPRIORITY VARCHAR(200), RECEIVEDDATE DATETIME, SERVICEFROMDATE TIMESTAMP, SERVICETODATE VARCHAR(200), REFERREDTO VARCHAR(200), SERVICECODE VARCHAR(200), SERVICEDESCRIPTION VARCHAR(2200), ISEXTENSION VARCHAR(200), OVERALLDECISION VARCHAR(200), DECISIONDATE VARCHAR(200),  WRITTENNOTIFDATE VARCHAR(200), DEADLINE VARCHAR(200), TAT VARCHAR(200), CMO VARCHAR(200), VERBALNOTIF VARCHAR(200), LETTERFLAG VARCHAR(200), APPROVEDENIED VARCHAR(200), LOADDATE VARCHAR(200), ALTRUISTADATE VARCHAR(200))'''\n",
    "    execute_query(conn, sql)\n",
    "    success, nchucks, nrows, _ = write_pandas(conn, df, 'CCA_AUTH_RAW_TEST_NEW')\n",
    "except Exception as e:\n",
    "    print(e)\n",
    "print('DataFrame successfully appended to Auth Table in Snowflake at ' + time.strftime('%Y-%m-%d %H:%M:%S',\n",
    "                                                                                       time.localtime(time.time())))"
   ],
   "metadata": {
    "collapsed": false
   }
  },
  {
   "cell_type": "code",
   "execution_count": 22,
   "outputs": [
    {
     "name": "stdout",
     "output_type": "stream",
     "text": [
      "Successful Connection\n",
      "001003 (42000): SQL compilation error:\n",
      "syntax error line 1 at position 48 unexpected '<EOF>'.\n",
      "DataFrame successfully appended to Auth Table in Snowflake at 2022-12-13 15:26:03\n"
     ]
    }
   ],
   "source": [
    "\n",
    "conn.close\n",
    "\n",
    "\n",
    "\n",
    "# except Exception as e:\n",
    "#         print(e)\n",
    "\n",
    "finally:\n",
    "conn.close"
   ],
   "metadata": {
    "collapsed": false
   }
  },
  {
   "cell_type": "code",
   "execution_count": 135,
   "outputs": [],
   "source": [
    "df.to_csv('Auth_test15.csv')"
   ],
   "metadata": {
    "collapsed": false
   }
  },
  {
   "cell_type": "code",
   "execution_count": 34,
   "metadata": {
    "collapsed": false
   },
   "outputs": [
    {
     "data": {
      "text/plain": [
       "0                                Skilled Nursing 60 Days\n",
       "1                              Injection rituximab 10 mg\n",
       "2                                Skilled Nursing 60 Days\n",
       "3                                Skilled Nursing 60 Days\n",
       "4                                Skilled Nursing 60 Days\n",
       "                              ...                       \n",
       "11641                                 Companion Services\n",
       "11642                                  Homemaker Service\n",
       "11643                            Skilled Nursing 60 Days\n",
       "11644    Homemaker Service Personal Care Agency not PCA)\n",
       "11645           Physical Therapy Skilled Nursing 60 Days\n",
       "Name: Service Description(s), Length: 11646, dtype: object"
      ]
     },
     "execution_count": 34,
     "metadata": {},
     "output_type": "execute_result"
    }
   ],
   "source": []
  },
  {
   "cell_type": "code",
   "execution_count": 35,
   "metadata": {
    "collapsed": false
   },
   "outputs": [
    {
     "data": {
      "text/html": [
       "<div>\n",
       "<style scoped>\n",
       "    .dataframe tbody tr th:only-of-type {\n",
       "        vertical-align: middle;\n",
       "    }\n",
       "\n",
       "    .dataframe tbody tr th {\n",
       "        vertical-align: top;\n",
       "    }\n",
       "\n",
       "    .dataframe thead th {\n",
       "        text-align: right;\n",
       "    }\n",
       "</style>\n",
       "<table border=\"1\" class=\"dataframe\">\n",
       "  <thead>\n",
       "    <tr style=\"text-align: right;\">\n",
       "      <th></th>\n",
       "      <th>AUTH_ID</th>\n",
       "      <th>MEMBER_ID</th>\n",
       "      <th>Product</th>\n",
       "      <th>cat</th>\n",
       "      <th>auth_priority</th>\n",
       "      <th>Received_Date</th>\n",
       "      <th>SERVICE_FROM_DATE</th>\n",
       "      <th>SERVICE_TO_DATE</th>\n",
       "      <th>Referred To/Facility</th>\n",
       "      <th>Service Code(s)</th>\n",
       "      <th>...</th>\n",
       "      <th>Decision_Date</th>\n",
       "      <th>WrittenNotifDate</th>\n",
       "      <th>deadline</th>\n",
       "      <th>TAT</th>\n",
       "      <th>CMO</th>\n",
       "      <th>Verbal_Notification_Fixed_New</th>\n",
       "      <th>Letter Flag</th>\n",
       "      <th>Admin Approval or Admin Denial</th>\n",
       "      <th>LoadDate</th>\n",
       "      <th>Altruista_updatedate</th>\n",
       "    </tr>\n",
       "  </thead>\n",
       "  <tbody>\n",
       "    <tr>\n",
       "      <th>0</th>\n",
       "      <td>0102S1Q6D</td>\n",
       "      <td>5366000712</td>\n",
       "      <td>Senior Care Options (SCO)-MA</td>\n",
       "      <td>Home Health</td>\n",
       "      <td>Prospective Standard</td>\n",
       "      <td>2022-01-01 19:00:00.979</td>\n",
       "      <td>2022-01-07</td>\n",
       "      <td>2022-03-07</td>\n",
       "      <td>Comfort Home Care, LLC</td>\n",
       "      <td>G0299</td>\n",
       "      <td>...</td>\n",
       "      <td>2022-01-03 09:55:42.038</td>\n",
       "      <td>2022-01-03 16:59:59.971</td>\n",
       "      <td>2022-01-15</td>\n",
       "      <td>2 day</td>\n",
       "      <td>Element Care</td>\n",
       "      <td>NaT</td>\n",
       "      <td>TimelyLetter</td>\n",
       "      <td>No</td>\n",
       "      <td>2022-10-10 06:24:54.029</td>\n",
       "      <td>2022-10-09 22:18:33.034</td>\n",
       "    </tr>\n",
       "    <tr>\n",
       "      <th>1</th>\n",
       "      <td>0102S38PQ</td>\n",
       "      <td>5365706182</td>\n",
       "      <td>Senior Care Options (SCO)-MA</td>\n",
       "      <td>Procedure</td>\n",
       "      <td>Prospective Expedited</td>\n",
       "      <td>2022-01-02 12:04:03.994</td>\n",
       "      <td>2022-01-04</td>\n",
       "      <td>2023-01-04</td>\n",
       "      <td>Matthew Jonathan Weinstock</td>\n",
       "      <td>J9312</td>\n",
       "      <td>...</td>\n",
       "      <td>2022-01-02 21:45:54.000</td>\n",
       "      <td>2022-01-03 12:00:00.000</td>\n",
       "      <td>2022-01-06</td>\n",
       "      <td>24 hours</td>\n",
       "      <td>Element Care</td>\n",
       "      <td>2022-01-03 07:59:59.971</td>\n",
       "      <td>TimelyLetter</td>\n",
       "      <td>No</td>\n",
       "      <td>2022-10-10 06:24:54.029</td>\n",
       "      <td>2022-10-09 22:18:33.034</td>\n",
       "    </tr>\n",
       "    <tr>\n",
       "      <th>2</th>\n",
       "      <td>0102SMODE</td>\n",
       "      <td>5365665706</td>\n",
       "      <td>Senior Care Options (SCO)-MA</td>\n",
       "      <td>Home Health</td>\n",
       "      <td>Prospective Standard</td>\n",
       "      <td>2022-01-01 18:22:10.042</td>\n",
       "      <td>2022-01-06</td>\n",
       "      <td>2022-03-06</td>\n",
       "      <td>Comfort Home Care, LLC</td>\n",
       "      <td>G0299</td>\n",
       "      <td>...</td>\n",
       "      <td>2022-01-03 09:03:16.042</td>\n",
       "      <td>2022-01-03 16:59:59.971</td>\n",
       "      <td>2022-01-15</td>\n",
       "      <td>2 day</td>\n",
       "      <td>Element Care</td>\n",
       "      <td>NaT</td>\n",
       "      <td>TimelyLetter</td>\n",
       "      <td>No</td>\n",
       "      <td>2022-10-10 06:24:54.029</td>\n",
       "      <td>2022-10-09 22:18:33.034</td>\n",
       "    </tr>\n",
       "    <tr>\n",
       "      <th>3</th>\n",
       "      <td>0102SZTF9</td>\n",
       "      <td>5365576687</td>\n",
       "      <td>Senior Care Options (SCO)-MA</td>\n",
       "      <td>Home Health</td>\n",
       "      <td>Prospective Standard</td>\n",
       "      <td>2022-01-02 09:42:14.976</td>\n",
       "      <td>2021-12-28</td>\n",
       "      <td>2022-02-25</td>\n",
       "      <td>Ideal Health Care System</td>\n",
       "      <td>G0299</td>\n",
       "      <td>...</td>\n",
       "      <td>2022-01-03 10:37:53.040</td>\n",
       "      <td>2022-01-03 16:59:59.971</td>\n",
       "      <td>2022-01-16</td>\n",
       "      <td>1 day</td>\n",
       "      <td>Element Care</td>\n",
       "      <td>NaT</td>\n",
       "      <td>TimelyLetter</td>\n",
       "      <td>No</td>\n",
       "      <td>2022-10-10 06:24:54.029</td>\n",
       "      <td>2022-10-09 22:18:33.034</td>\n",
       "    </tr>\n",
       "    <tr>\n",
       "      <th>4</th>\n",
       "      <td>0103M2N3I</td>\n",
       "      <td>5364525974</td>\n",
       "      <td>Senior Care Options (SCO)-MA</td>\n",
       "      <td>Home Health</td>\n",
       "      <td>Prospective Standard</td>\n",
       "      <td>2022-01-03 12:19:37.027</td>\n",
       "      <td>2021-12-25</td>\n",
       "      <td>2022-02-22</td>\n",
       "      <td>Suburban Home Health Care, Inc.</td>\n",
       "      <td>G0299</td>\n",
       "      <td>...</td>\n",
       "      <td>2022-01-04 08:50:18.010</td>\n",
       "      <td>2022-01-04 16:59:59.971</td>\n",
       "      <td>2022-01-17</td>\n",
       "      <td>1 day</td>\n",
       "      <td>Element Care</td>\n",
       "      <td>NaT</td>\n",
       "      <td>TimelyLetter</td>\n",
       "      <td>No</td>\n",
       "      <td>2022-10-10 06:24:54.029</td>\n",
       "      <td>2022-10-09 22:18:33.034</td>\n",
       "    </tr>\n",
       "    <tr>\n",
       "      <th>...</th>\n",
       "      <td>...</td>\n",
       "      <td>...</td>\n",
       "      <td>...</td>\n",
       "      <td>...</td>\n",
       "      <td>...</td>\n",
       "      <td>...</td>\n",
       "      <td>...</td>\n",
       "      <td>...</td>\n",
       "      <td>...</td>\n",
       "      <td>...</td>\n",
       "      <td>...</td>\n",
       "      <td>...</td>\n",
       "      <td>...</td>\n",
       "      <td>...</td>\n",
       "      <td>...</td>\n",
       "      <td>...</td>\n",
       "      <td>...</td>\n",
       "      <td>...</td>\n",
       "      <td>...</td>\n",
       "      <td>...</td>\n",
       "      <td>...</td>\n",
       "    </tr>\n",
       "    <tr>\n",
       "      <th>11641</th>\n",
       "      <td>1231FCFJB</td>\n",
       "      <td>5365652676</td>\n",
       "      <td>Senior Care Options (SCO)-MA</td>\n",
       "      <td>LTSS</td>\n",
       "      <td>Prospective Standard</td>\n",
       "      <td>2021-12-31 06:22:21.965</td>\n",
       "      <td>2022-01-01</td>\n",
       "      <td>2022-01-27</td>\n",
       "      <td>Quality Care, Inc.</td>\n",
       "      <td>S5135</td>\n",
       "      <td>...</td>\n",
       "      <td>2022-01-03 09:46:11.971</td>\n",
       "      <td>2022-01-03 16:59:59.971</td>\n",
       "      <td>2022-01-14</td>\n",
       "      <td>3 day</td>\n",
       "      <td>Element Care</td>\n",
       "      <td>NaT</td>\n",
       "      <td>TimelyLetter</td>\n",
       "      <td>No</td>\n",
       "      <td>2022-10-10 06:24:54.029</td>\n",
       "      <td>2022-10-09 22:18:33.034</td>\n",
       "    </tr>\n",
       "    <tr>\n",
       "      <th>11642</th>\n",
       "      <td>1231FRDSP</td>\n",
       "      <td>5365612416</td>\n",
       "      <td>Senior Care Options (SCO)-MA</td>\n",
       "      <td>LTSS</td>\n",
       "      <td>Prospective Standard</td>\n",
       "      <td>2021-12-31 06:33:33.034</td>\n",
       "      <td>2022-01-01</td>\n",
       "      <td>2022-06-30</td>\n",
       "      <td>Uniting With You Home Care LLC</td>\n",
       "      <td>S5130</td>\n",
       "      <td>...</td>\n",
       "      <td>2022-01-03 08:59:49.027</td>\n",
       "      <td>2022-01-03 16:59:59.971</td>\n",
       "      <td>2022-01-14</td>\n",
       "      <td>3 day</td>\n",
       "      <td>Element Care</td>\n",
       "      <td>NaT</td>\n",
       "      <td>TimelyLetter</td>\n",
       "      <td>No</td>\n",
       "      <td>2022-10-10 06:24:54.029</td>\n",
       "      <td>2022-10-09 22:18:33.034</td>\n",
       "    </tr>\n",
       "    <tr>\n",
       "      <th>11643</th>\n",
       "      <td>1231FSXXZ</td>\n",
       "      <td>5365584766</td>\n",
       "      <td>Senior Care Options (SCO)-MA</td>\n",
       "      <td>Home Health</td>\n",
       "      <td>Prospective Standard</td>\n",
       "      <td>2021-12-31 12:53:09.024</td>\n",
       "      <td>2022-01-01</td>\n",
       "      <td>2022-01-28</td>\n",
       "      <td>All Care VNA of Greater Lynn, Inc.</td>\n",
       "      <td>G0299</td>\n",
       "      <td>...</td>\n",
       "      <td>2022-01-03 09:55:37.978</td>\n",
       "      <td>2022-01-03 16:59:59.971</td>\n",
       "      <td>2022-01-14</td>\n",
       "      <td>3 day</td>\n",
       "      <td>Element Care</td>\n",
       "      <td>NaT</td>\n",
       "      <td>TimelyLetter</td>\n",
       "      <td>No</td>\n",
       "      <td>2022-10-10 06:24:54.029</td>\n",
       "      <td>2022-10-09 22:18:33.034</td>\n",
       "    </tr>\n",
       "    <tr>\n",
       "      <th>11644</th>\n",
       "      <td>1231FV5QD</td>\n",
       "      <td>5365652676</td>\n",
       "      <td>Senior Care Options (SCO)-MA</td>\n",
       "      <td>LTSS</td>\n",
       "      <td>Prospective Standard</td>\n",
       "      <td>2021-12-31 06:30:20.016</td>\n",
       "      <td>2022-01-01</td>\n",
       "      <td>2022-01-27</td>\n",
       "      <td>Quality Care, Inc.</td>\n",
       "      <td>S5130 | S5131</td>\n",
       "      <td>...</td>\n",
       "      <td>2022-01-03 09:49:19.027</td>\n",
       "      <td>2022-01-03 16:59:59.971</td>\n",
       "      <td>2022-01-14</td>\n",
       "      <td>3 day</td>\n",
       "      <td>Element Care</td>\n",
       "      <td>NaT</td>\n",
       "      <td>TimelyLetter</td>\n",
       "      <td>No</td>\n",
       "      <td>2022-10-10 06:24:54.029</td>\n",
       "      <td>2022-10-09 22:18:33.034</td>\n",
       "    </tr>\n",
       "    <tr>\n",
       "      <th>11645</th>\n",
       "      <td>1231FZQ5V</td>\n",
       "      <td>5365602184</td>\n",
       "      <td>Senior Care Options (SCO)-MA</td>\n",
       "      <td>Home Health</td>\n",
       "      <td>Prospective Standard</td>\n",
       "      <td>2021-12-31 11:52:44.976</td>\n",
       "      <td>2021-12-29</td>\n",
       "      <td>2022-01-28</td>\n",
       "      <td>Neighborhood Home Care, LLC</td>\n",
       "      <td>G0151 | G0299</td>\n",
       "      <td>...</td>\n",
       "      <td>2022-01-03 11:00:34.013</td>\n",
       "      <td>2022-01-03 16:59:59.971</td>\n",
       "      <td>2022-01-14</td>\n",
       "      <td>3 day</td>\n",
       "      <td>Element Care</td>\n",
       "      <td>NaT</td>\n",
       "      <td>TimelyLetter</td>\n",
       "      <td>No</td>\n",
       "      <td>2022-10-10 06:24:54.029</td>\n",
       "      <td>2022-10-09 22:18:33.034</td>\n",
       "    </tr>\n",
       "  </tbody>\n",
       "</table>\n",
       "<p>11646 rows × 23 columns</p>\n",
       "</div>"
      ],
      "text/plain": [
       "         AUTH_ID   MEMBER_ID                       Product          cat  \\\n",
       "0      0102S1Q6D  5366000712  Senior Care Options (SCO)-MA  Home Health   \n",
       "1      0102S38PQ  5365706182  Senior Care Options (SCO)-MA    Procedure   \n",
       "2      0102SMODE  5365665706  Senior Care Options (SCO)-MA  Home Health   \n",
       "3      0102SZTF9  5365576687  Senior Care Options (SCO)-MA  Home Health   \n",
       "4      0103M2N3I  5364525974  Senior Care Options (SCO)-MA  Home Health   \n",
       "...          ...         ...                           ...          ...   \n",
       "11641  1231FCFJB  5365652676  Senior Care Options (SCO)-MA         LTSS   \n",
       "11642  1231FRDSP  5365612416  Senior Care Options (SCO)-MA         LTSS   \n",
       "11643  1231FSXXZ  5365584766  Senior Care Options (SCO)-MA  Home Health   \n",
       "11644  1231FV5QD  5365652676  Senior Care Options (SCO)-MA         LTSS   \n",
       "11645  1231FZQ5V  5365602184  Senior Care Options (SCO)-MA  Home Health   \n",
       "\n",
       "               auth_priority           Received_Date SERVICE_FROM_DATE  \\\n",
       "0       Prospective Standard 2022-01-01 19:00:00.979        2022-01-07   \n",
       "1      Prospective Expedited 2022-01-02 12:04:03.994        2022-01-04   \n",
       "2       Prospective Standard 2022-01-01 18:22:10.042        2022-01-06   \n",
       "3       Prospective Standard 2022-01-02 09:42:14.976        2021-12-28   \n",
       "4       Prospective Standard 2022-01-03 12:19:37.027        2021-12-25   \n",
       "...                      ...                     ...               ...   \n",
       "11641   Prospective Standard 2021-12-31 06:22:21.965        2022-01-01   \n",
       "11642   Prospective Standard 2021-12-31 06:33:33.034        2022-01-01   \n",
       "11643   Prospective Standard 2021-12-31 12:53:09.024        2022-01-01   \n",
       "11644   Prospective Standard 2021-12-31 06:30:20.016        2022-01-01   \n",
       "11645   Prospective Standard 2021-12-31 11:52:44.976        2021-12-29   \n",
       "\n",
       "      SERVICE_TO_DATE                Referred To/Facility Service Code(s)  \\\n",
       "0          2022-03-07              Comfort Home Care, LLC           G0299   \n",
       "1          2023-01-04          Matthew Jonathan Weinstock           J9312   \n",
       "2          2022-03-06              Comfort Home Care, LLC           G0299   \n",
       "3          2022-02-25            Ideal Health Care System           G0299   \n",
       "4          2022-02-22     Suburban Home Health Care, Inc.           G0299   \n",
       "...               ...                                 ...             ...   \n",
       "11641      2022-01-27                  Quality Care, Inc.           S5135   \n",
       "11642      2022-06-30      Uniting With You Home Care LLC           S5130   \n",
       "11643      2022-01-28  All Care VNA of Greater Lynn, Inc.           G0299   \n",
       "11644      2022-01-27                  Quality Care, Inc.   S5130 | S5131   \n",
       "11645      2022-01-28         Neighborhood Home Care, LLC   G0151 | G0299   \n",
       "\n",
       "       ...           Decision_Date        WrittenNotifDate   deadline  \\\n",
       "0      ... 2022-01-03 09:55:42.038 2022-01-03 16:59:59.971 2022-01-15   \n",
       "1      ... 2022-01-02 21:45:54.000 2022-01-03 12:00:00.000 2022-01-06   \n",
       "2      ... 2022-01-03 09:03:16.042 2022-01-03 16:59:59.971 2022-01-15   \n",
       "3      ... 2022-01-03 10:37:53.040 2022-01-03 16:59:59.971 2022-01-16   \n",
       "4      ... 2022-01-04 08:50:18.010 2022-01-04 16:59:59.971 2022-01-17   \n",
       "...    ...                     ...                     ...        ...   \n",
       "11641  ... 2022-01-03 09:46:11.971 2022-01-03 16:59:59.971 2022-01-14   \n",
       "11642  ... 2022-01-03 08:59:49.027 2022-01-03 16:59:59.971 2022-01-14   \n",
       "11643  ... 2022-01-03 09:55:37.978 2022-01-03 16:59:59.971 2022-01-14   \n",
       "11644  ... 2022-01-03 09:49:19.027 2022-01-03 16:59:59.971 2022-01-14   \n",
       "11645  ... 2022-01-03 11:00:34.013 2022-01-03 16:59:59.971 2022-01-14   \n",
       "\n",
       "            TAT           CMO Verbal_Notification_Fixed_New   Letter Flag  \\\n",
       "0         2 day  Element Care                           NaT  TimelyLetter   \n",
       "1      24 hours  Element Care       2022-01-03 07:59:59.971  TimelyLetter   \n",
       "2         2 day  Element Care                           NaT  TimelyLetter   \n",
       "3         1 day  Element Care                           NaT  TimelyLetter   \n",
       "4         1 day  Element Care                           NaT  TimelyLetter   \n",
       "...         ...           ...                           ...           ...   \n",
       "11641     3 day  Element Care                           NaT  TimelyLetter   \n",
       "11642     3 day  Element Care                           NaT  TimelyLetter   \n",
       "11643     3 day  Element Care                           NaT  TimelyLetter   \n",
       "11644     3 day  Element Care                           NaT  TimelyLetter   \n",
       "11645     3 day  Element Care                           NaT  TimelyLetter   \n",
       "\n",
       "      Admin Approval or Admin Denial                LoadDate  \\\n",
       "0                                 No 2022-10-10 06:24:54.029   \n",
       "1                                 No 2022-10-10 06:24:54.029   \n",
       "2                                 No 2022-10-10 06:24:54.029   \n",
       "3                                 No 2022-10-10 06:24:54.029   \n",
       "4                                 No 2022-10-10 06:24:54.029   \n",
       "...                              ...                     ...   \n",
       "11641                             No 2022-10-10 06:24:54.029   \n",
       "11642                             No 2022-10-10 06:24:54.029   \n",
       "11643                             No 2022-10-10 06:24:54.029   \n",
       "11644                             No 2022-10-10 06:24:54.029   \n",
       "11645                             No 2022-10-10 06:24:54.029   \n",
       "\n",
       "         Altruista_updatedate  \n",
       "0     2022-10-09 22:18:33.034  \n",
       "1     2022-10-09 22:18:33.034  \n",
       "2     2022-10-09 22:18:33.034  \n",
       "3     2022-10-09 22:18:33.034  \n",
       "4     2022-10-09 22:18:33.034  \n",
       "...                       ...  \n",
       "11641 2022-10-09 22:18:33.034  \n",
       "11642 2022-10-09 22:18:33.034  \n",
       "11643 2022-10-09 22:18:33.034  \n",
       "11644 2022-10-09 22:18:33.034  \n",
       "11645 2022-10-09 22:18:33.034  \n",
       "\n",
       "[11646 rows x 23 columns]"
      ]
     },
     "execution_count": 35,
     "metadata": {},
     "output_type": "execute_result"
    }
   ],
   "source": [
    "df"
   ]
  },
  {
   "cell_type": "code",
   "execution_count": null,
   "metadata": {
    "collapsed": false
   },
   "outputs": [],
   "source": []
  }
 ],
 "metadata": {
  "kernelspec": {
   "display_name": "Python 3.9.13 ('NewBase')",
   "language": "python",
   "name": "python3"
  },
  "language_info": {
   "codemirror_mode": {
    "name": "ipython",
    "version": 2
   },
   "file_extension": ".py",
   "mimetype": "text/x-python",
   "name": "python",
   "nbconvert_exporter": "python",
   "pygments_lexer": "ipython2",
   "version": "3.9.13"
  },
  "vscode": {
   "interpreter": {
    "hash": "4bb5f7e03c56d6e91378b915f266587dc28bbd5e1a358e8c73c01ed5dd6d43c1"
   }
  }
 },
 "nbformat": 4,
 "nbformat_minor": 0
}
