{
 "cells": [
  {
   "cell_type": "code",
   "execution_count": 1,
   "metadata": {
    "collapsed": true,
    "pycharm": {
     "name": "#%%\n"
    }
   },
   "outputs": [],
   "source": [
    "# Import dependencies\n",
    "import snowflake.connector as sf\n",
    "import numpy as np\n",
    "import time\n",
    "import boto3\n",
    "import os\n",
    "import glob\n",
    "import pandas as pd\n",
    "#import sqlalchemy\n",
    "from snowflake.connector.pandas_tools import write_pandas\n",
    "#from sqlalchemy import create_engine\n",
    "import openpyxl\n",
    "import csv\n",
    "import zipfile\n",
    "import smtplib, ssl\n",
    "import shutil\n",
    "from snowflake.connector.pandas_tools import write_pandas"
   ]
  },
  {
   "cell_type": "code",
   "execution_count": 3,
   "outputs": [],
   "source": [
    "# log\n",
    "start_time = time.time()\n",
    "auth_log = []"
   ],
   "metadata": {
    "collapsed": false,
    "pycharm": {
     "name": "#%%\n"
    }
   }
  },
  {
   "cell_type": "code",
   "execution_count": null,
   "outputs": [],
   "source": [
    "try:\n",
    "    # Create local directory to store downloaded files\n",
    "    os.makedirs('C:\\\\Users\\\\Jad Driggers\\\\Documents\\\\Vesta\\\\CCAFILES\\\\CCA_AUTH')\n",
    "    os.chdir('C:\\\\Users\\\\Jad Driggers\\\\Documents\\\\Vesta\\\\CCAFILES\\\\CCA_AUTH')\n",
    "    root_directory = os.getcwd()\n",
    "    auth_log.append('Successfully created CCA_AUTH File Temporary Folder at ' + time.strftime('%Y-%m-%d %H:%M:%S',\n",
    "                                                                                              time.localtime(\n",
    "                                                                                                  time.time())))\n",
    "except Exception as e:\n",
    "    auth_log.append('There was an error with creating the temporary CCA_AUTH File - ' + str(e))\n",
    "    print('Successfully created CCA_AUTH File Temporary Folder at ' + time.strftime('%Y-%m-%d %H:%M:%S',\n",
    "                                                                                    time.localtime(time.time())))\n"
   ],
   "metadata": {
    "collapsed": false,
    "pycharm": {
     "name": "#%%\n"
    }
   }
  },
  {
   "cell_type": "code",
   "execution_count": 4,
   "outputs": [
    {
     "name": "stdout",
     "output_type": "stream",
     "text": [
      "AWS connection object created at 2022-10-19 11:58:29\n"
     ]
    }
   ],
   "source": [
    "#Create Connection Object for Connecting to AWS\n",
    "\n",
    "try:\n",
    "    s3 = boto3.resource(\n",
    "        service_name='s3',\n",
    "        region_name='us-east-1',\n",
    "        aws_access_key_id=os.getenv('aws_access_key_id'),\n",
    "        aws_secret_access_key=os.getenv('aws_secret_access_key'))\n",
    "    print('AWS connection object created at ' + time.strftime('%Y-%m-%d %H:%M:%S', time.localtime(time.time())))\n",
    "    auth_log.append(\n",
    "        'AWS connection object created at ' + time.strftime('%Y-%m-%d %H:%M:%S', time.localtime(time.time())))\n",
    "except Exception as e:\n",
    "    print('There was an error with creating the AWS connection object - ' + str(e))\n",
    "    auth_log.append('There was an error with creating the AWS connection object - ' + str(e))\n"
   ],
   "metadata": {
    "collapsed": false,
    "pycharm": {
     "name": "#%%\n"
    }
   }
  },
  {
   "cell_type": "code",
   "execution_count": null,
   "outputs": [],
   "source": [
    "#Create the file name format for locating the proper CCA files to parse\n",
    "\n",
    "filename_format_list = ['Auth Universe Report 09262022.xlsx']\n",
    "auth_log.append('Looking for CCA Files that start like ' + \" and \".join(filename_format_list) + ' at ' + time.strftime(\n",
    "    '%Y-%m-%d %H:%M:%S', time.localtime(time.time())))\n",
    "print('Looking for CCA Files that start like ' + \" and \".join(filename_format_list) + ' at ' + time.strftime(\n",
    "    '%Y-%m-%d %H:%M:%S', time.localtime(time.time())))"
   ],
   "metadata": {
    "collapsed": false,
    "pycharm": {
     "name": "#%%\n"
    }
   }
  },
  {
   "cell_type": "code",
   "execution_count": null,
   "outputs": [],
   "source": [
    "#Creating a list to store all the keys (file names) to download\n",
    "\n",
    "key_list = []\n",
    "\n",
    "try:\n",
    "    #Searching the S3 bucket for the most current Ping Files\n",
    "    for obj in s3.Bucket('hometeam-clinical-data').objects.all():\n",
    "        for filename_format in filename_format_list:\n",
    "            if filename_format in str(obj):\n",
    "                #print(obj.key)\n",
    "                key_list.append(obj.key)\n",
    "\n",
    "except Exception as e:\n",
    "    auth_log.append('There was an error while looking for most CCA Files - ' + str(e))"
   ],
   "metadata": {
    "collapsed": false,
    "pycharm": {
     "name": "#%%\n"
    }
   }
  },
  {
   "cell_type": "code",
   "execution_count": null,
   "outputs": [],
   "source": [
    "print(key_list)"
   ],
   "metadata": {
    "collapsed": false,
    "pycharm": {
     "name": "#%%\n"
    }
   }
  },
  {
   "cell_type": "code",
   "execution_count": null,
   "outputs": [],
   "source": [
    "try:\n",
    "    #Downloading each of the files found in the key list\n",
    "    for file in key_list:\n",
    "        s3.Bucket('hometeam-clinical-data').download_file(file, file.split('/')[2])\n",
    "        print(\n",
    "            'Files were successfully downloaded at ' + time.strftime('%Y-%m-%d %H:%M:%S', time.localtime(time.time())))\n",
    "    claimslog.append(\n",
    "        'Files were successfully downloaded at ' + time.strftime('%Y-%m-%d %H:%M:%S', time.localtime(time.time())))\n",
    "except Exception as e:\n",
    "    claimslog.append('There was an error while trying to download the CCA Files - ' + str(e))"
   ],
   "metadata": {
    "collapsed": false,
    "pycharm": {
     "name": "#%%\n"
    }
   }
  },
  {
   "cell_type": "code",
   "execution_count": 8,
   "outputs": [
    {
     "name": "stdout",
     "output_type": "stream",
     "text": [
      "<_io.TextIOWrapper name='Auth Universe Report_10.17.2022.xlsx' mode='r' encoding='cp1252'>\n"
     ]
    }
   ],
   "source": [
    "\n",
    "\n",
    "#Set current directory\n",
    "cwd = os.chdir('C:\\\\Users\\\\Jad Driggers\\\\Documents\\\\CCA_AUTH')\n",
    "\n",
    "for i, file in enumerate(os.listdir(cwd)):\n",
    "    if '.xlsx' in file:\n",
    "        df_list = []\n",
    "\n",
    "        with open(file, 'r') as csvfile:\n",
    "            reader = csv.reader(csvfile)\n",
    "\n",
    "    print(csvfile)"
   ],
   "metadata": {
    "collapsed": false,
    "pycharm": {
     "name": "#%%\n"
    }
   }
  },
  {
   "cell_type": "code",
   "execution_count": 4,
   "outputs": [
    {
     "name": "stdout",
     "output_type": "stream",
     "text": [
      "Location: C:\\Users\\Jad Driggers\\DataspellProjects\\analytics\\Python\\Auth\\Auth Universe Report_10.03.2022.xlsx\n",
      "File Name: Auth Universe Report_10.03.2022.xlsx\n",
      "Content:\n"
     ]
    },
    {
     "data": {
      "text/plain": "         AUTH_ID       CCAID                       Product          cat  \\\n0      0102S1Q6D  5366000712  Senior Care Options (SCO)-MA  Home Health   \n1      0102S38PQ  5365706182  Senior Care Options (SCO)-MA    Procedure   \n2      0102SMODE  5365665706  Senior Care Options (SCO)-MA  Home Health   \n3      0102SZTF9  5365576687  Senior Care Options (SCO)-MA  Home Health   \n4      0103M2N3I  5364525974  Senior Care Options (SCO)-MA  Home Health   \n...          ...         ...                           ...          ...   \n11659  1231FCFJB  5365652676  Senior Care Options (SCO)-MA         LTSS   \n11660  1231FRDSP  5365612416  Senior Care Options (SCO)-MA         LTSS   \n11661  1231FSXXZ  5365584766  Senior Care Options (SCO)-MA  Home Health   \n11662  1231FV5QD  5365652676  Senior Care Options (SCO)-MA         LTSS   \n11663  1231FZQ5V  5365602184  Senior Care Options (SCO)-MA  Home Health   \n\n               auth_priority           Received_Date min_SERVICE_FROM_DATE  \\\n0       Prospective Standard 2022-01-01 19:00:00.979            2022-01-07   \n1      Prospective Expedited 2022-01-02 12:04:03.994            2022-01-04   \n2       Prospective Standard 2022-01-01 18:22:10.042            2022-01-06   \n3       Prospective Standard 2022-01-02 09:42:14.976            2021-12-28   \n4       Prospective Standard 2022-01-03 12:19:37.027            2021-12-25   \n...                      ...                     ...                   ...   \n11659   Prospective Standard 2021-12-31 06:22:21.965            2022-01-01   \n11660   Prospective Standard 2021-12-31 06:33:33.034            2022-01-01   \n11661   Prospective Standard 2021-12-31 12:53:09.024            2022-01-01   \n11662   Prospective Standard 2021-12-31 06:30:20.016            2022-01-01   \n11663   Prospective Standard 2021-12-31 11:52:44.976            2021-12-29   \n\n      max_SERVICE_to_DATE                Referred To/Facility Service Code(s)  \\\n0              2022-03-07              Comfort Home Care, LLC           G0299   \n1              2023-01-04          Matthew Jonathan Weinstock           J9312   \n2              2022-03-06              Comfort Home Care, LLC           G0299   \n3              2022-02-25            Ideal Health Care System           G0299   \n4              2022-02-22     Suburban Home Health Care, Inc.           G0299   \n...                   ...                                 ...             ...   \n11659          2022-01-27                  Quality Care, Inc.           S5135   \n11660          2022-06-30      Uniting With You Home Care LLC           S5130   \n11661          2022-01-28  All Care VNA of Greater Lynn, Inc.           G0299   \n11662          2022-01-27                  Quality Care, Inc.   S5130 | S5131   \n11663          2022-01-28         Neighborhood Home Care, LLC   G0151 | G0299   \n\n       ...           Decision_Date        WrittenNotifDate   deadline  \\\n0      ... 2022-01-03 09:55:42.038 2022-01-03 16:59:59.971 2022-01-15   \n1      ... 2022-01-02 21:45:54.000 2022-01-03 12:00:00.000 2022-01-06   \n2      ... 2022-01-03 09:03:16.042 2022-01-03 16:59:59.971 2022-01-15   \n3      ... 2022-01-03 10:37:53.040 2022-01-03 16:59:59.971 2022-01-16   \n4      ... 2022-01-04 08:50:18.010 2022-01-04 16:59:59.971 2022-01-17   \n...    ...                     ...                     ...        ...   \n11659  ... 2022-01-03 09:46:11.971 2022-01-03 16:59:59.971 2022-01-14   \n11660  ... 2022-01-03 08:59:49.027 2022-01-03 16:59:59.971 2022-01-14   \n11661  ... 2022-01-03 09:55:37.978 2022-01-03 16:59:59.971 2022-01-14   \n11662  ... 2022-01-03 09:49:19.027 2022-01-03 16:59:59.971 2022-01-14   \n11663  ... 2022-01-03 11:00:34.013 2022-01-03 16:59:59.971 2022-01-14   \n\n            TAT           CMO Verbal_Notification_Fixed_New   Letter Flag  \\\n0         2 day  Element Care                           NaT  TimelyLetter   \n1      24 hours  Element Care       2022-01-03 07:59:59.971  TimelyLetter   \n2         2 day  Element Care                           NaT  TimelyLetter   \n3         1 day  Element Care                           NaT  TimelyLetter   \n4         1 day  Element Care                           NaT  TimelyLetter   \n...         ...           ...                           ...           ...   \n11659     3 day  Element Care                           NaT  TimelyLetter   \n11660     3 day  Element Care                           NaT  TimelyLetter   \n11661     3 day  Element Care                           NaT  TimelyLetter   \n11662     3 day  Element Care                           NaT  TimelyLetter   \n11663     3 day  Element Care                           NaT  TimelyLetter   \n\n      Admin Approval or Admin Denial                LoadDate  \\\n0                                 No 2022-10-03 06:43:29.971   \n1                                 No 2022-10-03 06:43:29.971   \n2                                 No 2022-10-03 06:43:29.971   \n3                                 No 2022-10-03 06:43:29.971   \n4                                 No 2022-10-03 06:43:29.971   \n...                              ...                     ...   \n11659                             No 2022-10-03 06:43:29.971   \n11660                             No 2022-10-03 06:43:29.971   \n11661                             No 2022-10-03 06:43:29.971   \n11662                             No 2022-10-03 06:43:29.971   \n11663                             No 2022-10-03 06:43:29.971   \n\n         Altruista_updatedate  \n0     2022-10-03 02:32:04.013  \n1     2022-10-03 02:32:04.013  \n2     2022-10-03 02:32:04.013  \n3     2022-10-03 02:32:04.013  \n4     2022-10-03 02:32:04.013  \n...                       ...  \n11659 2022-10-03 02:32:04.013  \n11660 2022-10-03 02:32:04.013  \n11661 2022-10-03 02:32:04.013  \n11662 2022-10-03 02:32:04.013  \n11663 2022-10-03 02:32:04.013  \n\n[11664 rows x 23 columns]",
      "text/html": "<div>\n<style scoped>\n    .dataframe tbody tr th:only-of-type {\n        vertical-align: middle;\n    }\n\n    .dataframe tbody tr th {\n        vertical-align: top;\n    }\n\n    .dataframe thead th {\n        text-align: right;\n    }\n</style>\n<table border=\"1\" class=\"dataframe\">\n  <thead>\n    <tr style=\"text-align: right;\">\n      <th></th>\n      <th>AUTH_ID</th>\n      <th>CCAID</th>\n      <th>Product</th>\n      <th>cat</th>\n      <th>auth_priority</th>\n      <th>Received_Date</th>\n      <th>min_SERVICE_FROM_DATE</th>\n      <th>max_SERVICE_to_DATE</th>\n      <th>Referred To/Facility</th>\n      <th>Service Code(s)</th>\n      <th>...</th>\n      <th>Decision_Date</th>\n      <th>WrittenNotifDate</th>\n      <th>deadline</th>\n      <th>TAT</th>\n      <th>CMO</th>\n      <th>Verbal_Notification_Fixed_New</th>\n      <th>Letter Flag</th>\n      <th>Admin Approval or Admin Denial</th>\n      <th>LoadDate</th>\n      <th>Altruista_updatedate</th>\n    </tr>\n  </thead>\n  <tbody>\n    <tr>\n      <th>0</th>\n      <td>0102S1Q6D</td>\n      <td>5366000712</td>\n      <td>Senior Care Options (SCO)-MA</td>\n      <td>Home Health</td>\n      <td>Prospective Standard</td>\n      <td>2022-01-01 19:00:00.979</td>\n      <td>2022-01-07</td>\n      <td>2022-03-07</td>\n      <td>Comfort Home Care, LLC</td>\n      <td>G0299</td>\n      <td>...</td>\n      <td>2022-01-03 09:55:42.038</td>\n      <td>2022-01-03 16:59:59.971</td>\n      <td>2022-01-15</td>\n      <td>2 day</td>\n      <td>Element Care</td>\n      <td>NaT</td>\n      <td>TimelyLetter</td>\n      <td>No</td>\n      <td>2022-10-03 06:43:29.971</td>\n      <td>2022-10-03 02:32:04.013</td>\n    </tr>\n    <tr>\n      <th>1</th>\n      <td>0102S38PQ</td>\n      <td>5365706182</td>\n      <td>Senior Care Options (SCO)-MA</td>\n      <td>Procedure</td>\n      <td>Prospective Expedited</td>\n      <td>2022-01-02 12:04:03.994</td>\n      <td>2022-01-04</td>\n      <td>2023-01-04</td>\n      <td>Matthew Jonathan Weinstock</td>\n      <td>J9312</td>\n      <td>...</td>\n      <td>2022-01-02 21:45:54.000</td>\n      <td>2022-01-03 12:00:00.000</td>\n      <td>2022-01-06</td>\n      <td>24 hours</td>\n      <td>Element Care</td>\n      <td>2022-01-03 07:59:59.971</td>\n      <td>TimelyLetter</td>\n      <td>No</td>\n      <td>2022-10-03 06:43:29.971</td>\n      <td>2022-10-03 02:32:04.013</td>\n    </tr>\n    <tr>\n      <th>2</th>\n      <td>0102SMODE</td>\n      <td>5365665706</td>\n      <td>Senior Care Options (SCO)-MA</td>\n      <td>Home Health</td>\n      <td>Prospective Standard</td>\n      <td>2022-01-01 18:22:10.042</td>\n      <td>2022-01-06</td>\n      <td>2022-03-06</td>\n      <td>Comfort Home Care, LLC</td>\n      <td>G0299</td>\n      <td>...</td>\n      <td>2022-01-03 09:03:16.042</td>\n      <td>2022-01-03 16:59:59.971</td>\n      <td>2022-01-15</td>\n      <td>2 day</td>\n      <td>Element Care</td>\n      <td>NaT</td>\n      <td>TimelyLetter</td>\n      <td>No</td>\n      <td>2022-10-03 06:43:29.971</td>\n      <td>2022-10-03 02:32:04.013</td>\n    </tr>\n    <tr>\n      <th>3</th>\n      <td>0102SZTF9</td>\n      <td>5365576687</td>\n      <td>Senior Care Options (SCO)-MA</td>\n      <td>Home Health</td>\n      <td>Prospective Standard</td>\n      <td>2022-01-02 09:42:14.976</td>\n      <td>2021-12-28</td>\n      <td>2022-02-25</td>\n      <td>Ideal Health Care System</td>\n      <td>G0299</td>\n      <td>...</td>\n      <td>2022-01-03 10:37:53.040</td>\n      <td>2022-01-03 16:59:59.971</td>\n      <td>2022-01-16</td>\n      <td>1 day</td>\n      <td>Element Care</td>\n      <td>NaT</td>\n      <td>TimelyLetter</td>\n      <td>No</td>\n      <td>2022-10-03 06:43:29.971</td>\n      <td>2022-10-03 02:32:04.013</td>\n    </tr>\n    <tr>\n      <th>4</th>\n      <td>0103M2N3I</td>\n      <td>5364525974</td>\n      <td>Senior Care Options (SCO)-MA</td>\n      <td>Home Health</td>\n      <td>Prospective Standard</td>\n      <td>2022-01-03 12:19:37.027</td>\n      <td>2021-12-25</td>\n      <td>2022-02-22</td>\n      <td>Suburban Home Health Care, Inc.</td>\n      <td>G0299</td>\n      <td>...</td>\n      <td>2022-01-04 08:50:18.010</td>\n      <td>2022-01-04 16:59:59.971</td>\n      <td>2022-01-17</td>\n      <td>1 day</td>\n      <td>Element Care</td>\n      <td>NaT</td>\n      <td>TimelyLetter</td>\n      <td>No</td>\n      <td>2022-10-03 06:43:29.971</td>\n      <td>2022-10-03 02:32:04.013</td>\n    </tr>\n    <tr>\n      <th>...</th>\n      <td>...</td>\n      <td>...</td>\n      <td>...</td>\n      <td>...</td>\n      <td>...</td>\n      <td>...</td>\n      <td>...</td>\n      <td>...</td>\n      <td>...</td>\n      <td>...</td>\n      <td>...</td>\n      <td>...</td>\n      <td>...</td>\n      <td>...</td>\n      <td>...</td>\n      <td>...</td>\n      <td>...</td>\n      <td>...</td>\n      <td>...</td>\n      <td>...</td>\n      <td>...</td>\n    </tr>\n    <tr>\n      <th>11659</th>\n      <td>1231FCFJB</td>\n      <td>5365652676</td>\n      <td>Senior Care Options (SCO)-MA</td>\n      <td>LTSS</td>\n      <td>Prospective Standard</td>\n      <td>2021-12-31 06:22:21.965</td>\n      <td>2022-01-01</td>\n      <td>2022-01-27</td>\n      <td>Quality Care, Inc.</td>\n      <td>S5135</td>\n      <td>...</td>\n      <td>2022-01-03 09:46:11.971</td>\n      <td>2022-01-03 16:59:59.971</td>\n      <td>2022-01-14</td>\n      <td>3 day</td>\n      <td>Element Care</td>\n      <td>NaT</td>\n      <td>TimelyLetter</td>\n      <td>No</td>\n      <td>2022-10-03 06:43:29.971</td>\n      <td>2022-10-03 02:32:04.013</td>\n    </tr>\n    <tr>\n      <th>11660</th>\n      <td>1231FRDSP</td>\n      <td>5365612416</td>\n      <td>Senior Care Options (SCO)-MA</td>\n      <td>LTSS</td>\n      <td>Prospective Standard</td>\n      <td>2021-12-31 06:33:33.034</td>\n      <td>2022-01-01</td>\n      <td>2022-06-30</td>\n      <td>Uniting With You Home Care LLC</td>\n      <td>S5130</td>\n      <td>...</td>\n      <td>2022-01-03 08:59:49.027</td>\n      <td>2022-01-03 16:59:59.971</td>\n      <td>2022-01-14</td>\n      <td>3 day</td>\n      <td>Element Care</td>\n      <td>NaT</td>\n      <td>TimelyLetter</td>\n      <td>No</td>\n      <td>2022-10-03 06:43:29.971</td>\n      <td>2022-10-03 02:32:04.013</td>\n    </tr>\n    <tr>\n      <th>11661</th>\n      <td>1231FSXXZ</td>\n      <td>5365584766</td>\n      <td>Senior Care Options (SCO)-MA</td>\n      <td>Home Health</td>\n      <td>Prospective Standard</td>\n      <td>2021-12-31 12:53:09.024</td>\n      <td>2022-01-01</td>\n      <td>2022-01-28</td>\n      <td>All Care VNA of Greater Lynn, Inc.</td>\n      <td>G0299</td>\n      <td>...</td>\n      <td>2022-01-03 09:55:37.978</td>\n      <td>2022-01-03 16:59:59.971</td>\n      <td>2022-01-14</td>\n      <td>3 day</td>\n      <td>Element Care</td>\n      <td>NaT</td>\n      <td>TimelyLetter</td>\n      <td>No</td>\n      <td>2022-10-03 06:43:29.971</td>\n      <td>2022-10-03 02:32:04.013</td>\n    </tr>\n    <tr>\n      <th>11662</th>\n      <td>1231FV5QD</td>\n      <td>5365652676</td>\n      <td>Senior Care Options (SCO)-MA</td>\n      <td>LTSS</td>\n      <td>Prospective Standard</td>\n      <td>2021-12-31 06:30:20.016</td>\n      <td>2022-01-01</td>\n      <td>2022-01-27</td>\n      <td>Quality Care, Inc.</td>\n      <td>S5130 | S5131</td>\n      <td>...</td>\n      <td>2022-01-03 09:49:19.027</td>\n      <td>2022-01-03 16:59:59.971</td>\n      <td>2022-01-14</td>\n      <td>3 day</td>\n      <td>Element Care</td>\n      <td>NaT</td>\n      <td>TimelyLetter</td>\n      <td>No</td>\n      <td>2022-10-03 06:43:29.971</td>\n      <td>2022-10-03 02:32:04.013</td>\n    </tr>\n    <tr>\n      <th>11663</th>\n      <td>1231FZQ5V</td>\n      <td>5365602184</td>\n      <td>Senior Care Options (SCO)-MA</td>\n      <td>Home Health</td>\n      <td>Prospective Standard</td>\n      <td>2021-12-31 11:52:44.976</td>\n      <td>2021-12-29</td>\n      <td>2022-01-28</td>\n      <td>Neighborhood Home Care, LLC</td>\n      <td>G0151 | G0299</td>\n      <td>...</td>\n      <td>2022-01-03 11:00:34.013</td>\n      <td>2022-01-03 16:59:59.971</td>\n      <td>2022-01-14</td>\n      <td>3 day</td>\n      <td>Element Care</td>\n      <td>NaT</td>\n      <td>TimelyLetter</td>\n      <td>No</td>\n      <td>2022-10-03 06:43:29.971</td>\n      <td>2022-10-03 02:32:04.013</td>\n    </tr>\n  </tbody>\n</table>\n<p>11664 rows × 23 columns</p>\n</div>"
     },
     "metadata": {},
     "output_type": "display_data"
    },
    {
     "name": "stdout",
     "output_type": "stream",
     "text": [
      "\n",
      "Location: C:\\Users\\Jad Driggers\\DataspellProjects\\analytics\\Python\\Auth\\Auth Universe Report_10.10.2022.xlsx\n",
      "File Name: Auth Universe Report_10.10.2022.xlsx\n",
      "Content:\n"
     ]
    },
    {
     "data": {
      "text/plain": "         AUTH_ID       CCAID                       Product          cat  \\\n0      0102S1Q6D  5366000712  Senior Care Options (SCO)-MA  Home Health   \n1      0102S38PQ  5365706182  Senior Care Options (SCO)-MA    Procedure   \n2      0102SMODE  5365665706  Senior Care Options (SCO)-MA  Home Health   \n3      0102SZTF9  5365576687  Senior Care Options (SCO)-MA  Home Health   \n4      0103M2N3I  5364525974  Senior Care Options (SCO)-MA  Home Health   \n...          ...         ...                           ...          ...   \n11641  1231FCFJB  5365652676  Senior Care Options (SCO)-MA         LTSS   \n11642  1231FRDSP  5365612416  Senior Care Options (SCO)-MA         LTSS   \n11643  1231FSXXZ  5365584766  Senior Care Options (SCO)-MA  Home Health   \n11644  1231FV5QD  5365652676  Senior Care Options (SCO)-MA         LTSS   \n11645  1231FZQ5V  5365602184  Senior Care Options (SCO)-MA  Home Health   \n\n               auth_priority           Received_Date min_SERVICE_FROM_DATE  \\\n0       Prospective Standard 2022-01-01 19:00:00.979            2022-01-07   \n1      Prospective Expedited 2022-01-02 12:04:03.994            2022-01-04   \n2       Prospective Standard 2022-01-01 18:22:10.042            2022-01-06   \n3       Prospective Standard 2022-01-02 09:42:14.976            2021-12-28   \n4       Prospective Standard 2022-01-03 12:19:37.027            2021-12-25   \n...                      ...                     ...                   ...   \n11641   Prospective Standard 2021-12-31 06:22:21.965            2022-01-01   \n11642   Prospective Standard 2021-12-31 06:33:33.034            2022-01-01   \n11643   Prospective Standard 2021-12-31 12:53:09.024            2022-01-01   \n11644   Prospective Standard 2021-12-31 06:30:20.016            2022-01-01   \n11645   Prospective Standard 2021-12-31 11:52:44.976            2021-12-29   \n\n      max_SERVICE_to_DATE                Referred To/Facility Service Code(s)  \\\n0              2022-03-07              Comfort Home Care, LLC           G0299   \n1              2023-01-04          Matthew Jonathan Weinstock           J9312   \n2              2022-03-06              Comfort Home Care, LLC           G0299   \n3              2022-02-25            Ideal Health Care System           G0299   \n4              2022-02-22     Suburban Home Health Care, Inc.           G0299   \n...                   ...                                 ...             ...   \n11641          2022-01-27                  Quality Care, Inc.           S5135   \n11642          2022-06-30      Uniting With You Home Care LLC           S5130   \n11643          2022-01-28  All Care VNA of Greater Lynn, Inc.           G0299   \n11644          2022-01-27                  Quality Care, Inc.   S5130 | S5131   \n11645          2022-01-28         Neighborhood Home Care, LLC   G0151 | G0299   \n\n       ...           Decision_Date        WrittenNotifDate   deadline  \\\n0      ... 2022-01-03 09:55:42.038 2022-01-03 16:59:59.971 2022-01-15   \n1      ... 2022-01-02 21:45:54.000 2022-01-03 12:00:00.000 2022-01-06   \n2      ... 2022-01-03 09:03:16.042 2022-01-03 16:59:59.971 2022-01-15   \n3      ... 2022-01-03 10:37:53.040 2022-01-03 16:59:59.971 2022-01-16   \n4      ... 2022-01-04 08:50:18.010 2022-01-04 16:59:59.971 2022-01-17   \n...    ...                     ...                     ...        ...   \n11641  ... 2022-01-03 09:46:11.971 2022-01-03 16:59:59.971 2022-01-14   \n11642  ... 2022-01-03 08:59:49.027 2022-01-03 16:59:59.971 2022-01-14   \n11643  ... 2022-01-03 09:55:37.978 2022-01-03 16:59:59.971 2022-01-14   \n11644  ... 2022-01-03 09:49:19.027 2022-01-03 16:59:59.971 2022-01-14   \n11645  ... 2022-01-03 11:00:34.013 2022-01-03 16:59:59.971 2022-01-14   \n\n            TAT           CMO Verbal_Notification_Fixed_New   Letter Flag  \\\n0         2 day  Element Care                           NaT  TimelyLetter   \n1      24 hours  Element Care       2022-01-03 07:59:59.971  TimelyLetter   \n2         2 day  Element Care                           NaT  TimelyLetter   \n3         1 day  Element Care                           NaT  TimelyLetter   \n4         1 day  Element Care                           NaT  TimelyLetter   \n...         ...           ...                           ...           ...   \n11641     3 day  Element Care                           NaT  TimelyLetter   \n11642     3 day  Element Care                           NaT  TimelyLetter   \n11643     3 day  Element Care                           NaT  TimelyLetter   \n11644     3 day  Element Care                           NaT  TimelyLetter   \n11645     3 day  Element Care                           NaT  TimelyLetter   \n\n      Admin Approval or Admin Denial                LoadDate  \\\n0                                 No 2022-10-10 06:24:54.029   \n1                                 No 2022-10-10 06:24:54.029   \n2                                 No 2022-10-10 06:24:54.029   \n3                                 No 2022-10-10 06:24:54.029   \n4                                 No 2022-10-10 06:24:54.029   \n...                              ...                     ...   \n11641                             No 2022-10-10 06:24:54.029   \n11642                             No 2022-10-10 06:24:54.029   \n11643                             No 2022-10-10 06:24:54.029   \n11644                             No 2022-10-10 06:24:54.029   \n11645                             No 2022-10-10 06:24:54.029   \n\n         Altruista_updatedate  \n0     2022-10-09 22:18:33.034  \n1     2022-10-09 22:18:33.034  \n2     2022-10-09 22:18:33.034  \n3     2022-10-09 22:18:33.034  \n4     2022-10-09 22:18:33.034  \n...                       ...  \n11641 2022-10-09 22:18:33.034  \n11642 2022-10-09 22:18:33.034  \n11643 2022-10-09 22:18:33.034  \n11644 2022-10-09 22:18:33.034  \n11645 2022-10-09 22:18:33.034  \n\n[11646 rows x 23 columns]",
      "text/html": "<div>\n<style scoped>\n    .dataframe tbody tr th:only-of-type {\n        vertical-align: middle;\n    }\n\n    .dataframe tbody tr th {\n        vertical-align: top;\n    }\n\n    .dataframe thead th {\n        text-align: right;\n    }\n</style>\n<table border=\"1\" class=\"dataframe\">\n  <thead>\n    <tr style=\"text-align: right;\">\n      <th></th>\n      <th>AUTH_ID</th>\n      <th>CCAID</th>\n      <th>Product</th>\n      <th>cat</th>\n      <th>auth_priority</th>\n      <th>Received_Date</th>\n      <th>min_SERVICE_FROM_DATE</th>\n      <th>max_SERVICE_to_DATE</th>\n      <th>Referred To/Facility</th>\n      <th>Service Code(s)</th>\n      <th>...</th>\n      <th>Decision_Date</th>\n      <th>WrittenNotifDate</th>\n      <th>deadline</th>\n      <th>TAT</th>\n      <th>CMO</th>\n      <th>Verbal_Notification_Fixed_New</th>\n      <th>Letter Flag</th>\n      <th>Admin Approval or Admin Denial</th>\n      <th>LoadDate</th>\n      <th>Altruista_updatedate</th>\n    </tr>\n  </thead>\n  <tbody>\n    <tr>\n      <th>0</th>\n      <td>0102S1Q6D</td>\n      <td>5366000712</td>\n      <td>Senior Care Options (SCO)-MA</td>\n      <td>Home Health</td>\n      <td>Prospective Standard</td>\n      <td>2022-01-01 19:00:00.979</td>\n      <td>2022-01-07</td>\n      <td>2022-03-07</td>\n      <td>Comfort Home Care, LLC</td>\n      <td>G0299</td>\n      <td>...</td>\n      <td>2022-01-03 09:55:42.038</td>\n      <td>2022-01-03 16:59:59.971</td>\n      <td>2022-01-15</td>\n      <td>2 day</td>\n      <td>Element Care</td>\n      <td>NaT</td>\n      <td>TimelyLetter</td>\n      <td>No</td>\n      <td>2022-10-10 06:24:54.029</td>\n      <td>2022-10-09 22:18:33.034</td>\n    </tr>\n    <tr>\n      <th>1</th>\n      <td>0102S38PQ</td>\n      <td>5365706182</td>\n      <td>Senior Care Options (SCO)-MA</td>\n      <td>Procedure</td>\n      <td>Prospective Expedited</td>\n      <td>2022-01-02 12:04:03.994</td>\n      <td>2022-01-04</td>\n      <td>2023-01-04</td>\n      <td>Matthew Jonathan Weinstock</td>\n      <td>J9312</td>\n      <td>...</td>\n      <td>2022-01-02 21:45:54.000</td>\n      <td>2022-01-03 12:00:00.000</td>\n      <td>2022-01-06</td>\n      <td>24 hours</td>\n      <td>Element Care</td>\n      <td>2022-01-03 07:59:59.971</td>\n      <td>TimelyLetter</td>\n      <td>No</td>\n      <td>2022-10-10 06:24:54.029</td>\n      <td>2022-10-09 22:18:33.034</td>\n    </tr>\n    <tr>\n      <th>2</th>\n      <td>0102SMODE</td>\n      <td>5365665706</td>\n      <td>Senior Care Options (SCO)-MA</td>\n      <td>Home Health</td>\n      <td>Prospective Standard</td>\n      <td>2022-01-01 18:22:10.042</td>\n      <td>2022-01-06</td>\n      <td>2022-03-06</td>\n      <td>Comfort Home Care, LLC</td>\n      <td>G0299</td>\n      <td>...</td>\n      <td>2022-01-03 09:03:16.042</td>\n      <td>2022-01-03 16:59:59.971</td>\n      <td>2022-01-15</td>\n      <td>2 day</td>\n      <td>Element Care</td>\n      <td>NaT</td>\n      <td>TimelyLetter</td>\n      <td>No</td>\n      <td>2022-10-10 06:24:54.029</td>\n      <td>2022-10-09 22:18:33.034</td>\n    </tr>\n    <tr>\n      <th>3</th>\n      <td>0102SZTF9</td>\n      <td>5365576687</td>\n      <td>Senior Care Options (SCO)-MA</td>\n      <td>Home Health</td>\n      <td>Prospective Standard</td>\n      <td>2022-01-02 09:42:14.976</td>\n      <td>2021-12-28</td>\n      <td>2022-02-25</td>\n      <td>Ideal Health Care System</td>\n      <td>G0299</td>\n      <td>...</td>\n      <td>2022-01-03 10:37:53.040</td>\n      <td>2022-01-03 16:59:59.971</td>\n      <td>2022-01-16</td>\n      <td>1 day</td>\n      <td>Element Care</td>\n      <td>NaT</td>\n      <td>TimelyLetter</td>\n      <td>No</td>\n      <td>2022-10-10 06:24:54.029</td>\n      <td>2022-10-09 22:18:33.034</td>\n    </tr>\n    <tr>\n      <th>4</th>\n      <td>0103M2N3I</td>\n      <td>5364525974</td>\n      <td>Senior Care Options (SCO)-MA</td>\n      <td>Home Health</td>\n      <td>Prospective Standard</td>\n      <td>2022-01-03 12:19:37.027</td>\n      <td>2021-12-25</td>\n      <td>2022-02-22</td>\n      <td>Suburban Home Health Care, Inc.</td>\n      <td>G0299</td>\n      <td>...</td>\n      <td>2022-01-04 08:50:18.010</td>\n      <td>2022-01-04 16:59:59.971</td>\n      <td>2022-01-17</td>\n      <td>1 day</td>\n      <td>Element Care</td>\n      <td>NaT</td>\n      <td>TimelyLetter</td>\n      <td>No</td>\n      <td>2022-10-10 06:24:54.029</td>\n      <td>2022-10-09 22:18:33.034</td>\n    </tr>\n    <tr>\n      <th>...</th>\n      <td>...</td>\n      <td>...</td>\n      <td>...</td>\n      <td>...</td>\n      <td>...</td>\n      <td>...</td>\n      <td>...</td>\n      <td>...</td>\n      <td>...</td>\n      <td>...</td>\n      <td>...</td>\n      <td>...</td>\n      <td>...</td>\n      <td>...</td>\n      <td>...</td>\n      <td>...</td>\n      <td>...</td>\n      <td>...</td>\n      <td>...</td>\n      <td>...</td>\n      <td>...</td>\n    </tr>\n    <tr>\n      <th>11641</th>\n      <td>1231FCFJB</td>\n      <td>5365652676</td>\n      <td>Senior Care Options (SCO)-MA</td>\n      <td>LTSS</td>\n      <td>Prospective Standard</td>\n      <td>2021-12-31 06:22:21.965</td>\n      <td>2022-01-01</td>\n      <td>2022-01-27</td>\n      <td>Quality Care, Inc.</td>\n      <td>S5135</td>\n      <td>...</td>\n      <td>2022-01-03 09:46:11.971</td>\n      <td>2022-01-03 16:59:59.971</td>\n      <td>2022-01-14</td>\n      <td>3 day</td>\n      <td>Element Care</td>\n      <td>NaT</td>\n      <td>TimelyLetter</td>\n      <td>No</td>\n      <td>2022-10-10 06:24:54.029</td>\n      <td>2022-10-09 22:18:33.034</td>\n    </tr>\n    <tr>\n      <th>11642</th>\n      <td>1231FRDSP</td>\n      <td>5365612416</td>\n      <td>Senior Care Options (SCO)-MA</td>\n      <td>LTSS</td>\n      <td>Prospective Standard</td>\n      <td>2021-12-31 06:33:33.034</td>\n      <td>2022-01-01</td>\n      <td>2022-06-30</td>\n      <td>Uniting With You Home Care LLC</td>\n      <td>S5130</td>\n      <td>...</td>\n      <td>2022-01-03 08:59:49.027</td>\n      <td>2022-01-03 16:59:59.971</td>\n      <td>2022-01-14</td>\n      <td>3 day</td>\n      <td>Element Care</td>\n      <td>NaT</td>\n      <td>TimelyLetter</td>\n      <td>No</td>\n      <td>2022-10-10 06:24:54.029</td>\n      <td>2022-10-09 22:18:33.034</td>\n    </tr>\n    <tr>\n      <th>11643</th>\n      <td>1231FSXXZ</td>\n      <td>5365584766</td>\n      <td>Senior Care Options (SCO)-MA</td>\n      <td>Home Health</td>\n      <td>Prospective Standard</td>\n      <td>2021-12-31 12:53:09.024</td>\n      <td>2022-01-01</td>\n      <td>2022-01-28</td>\n      <td>All Care VNA of Greater Lynn, Inc.</td>\n      <td>G0299</td>\n      <td>...</td>\n      <td>2022-01-03 09:55:37.978</td>\n      <td>2022-01-03 16:59:59.971</td>\n      <td>2022-01-14</td>\n      <td>3 day</td>\n      <td>Element Care</td>\n      <td>NaT</td>\n      <td>TimelyLetter</td>\n      <td>No</td>\n      <td>2022-10-10 06:24:54.029</td>\n      <td>2022-10-09 22:18:33.034</td>\n    </tr>\n    <tr>\n      <th>11644</th>\n      <td>1231FV5QD</td>\n      <td>5365652676</td>\n      <td>Senior Care Options (SCO)-MA</td>\n      <td>LTSS</td>\n      <td>Prospective Standard</td>\n      <td>2021-12-31 06:30:20.016</td>\n      <td>2022-01-01</td>\n      <td>2022-01-27</td>\n      <td>Quality Care, Inc.</td>\n      <td>S5130 | S5131</td>\n      <td>...</td>\n      <td>2022-01-03 09:49:19.027</td>\n      <td>2022-01-03 16:59:59.971</td>\n      <td>2022-01-14</td>\n      <td>3 day</td>\n      <td>Element Care</td>\n      <td>NaT</td>\n      <td>TimelyLetter</td>\n      <td>No</td>\n      <td>2022-10-10 06:24:54.029</td>\n      <td>2022-10-09 22:18:33.034</td>\n    </tr>\n    <tr>\n      <th>11645</th>\n      <td>1231FZQ5V</td>\n      <td>5365602184</td>\n      <td>Senior Care Options (SCO)-MA</td>\n      <td>Home Health</td>\n      <td>Prospective Standard</td>\n      <td>2021-12-31 11:52:44.976</td>\n      <td>2021-12-29</td>\n      <td>2022-01-28</td>\n      <td>Neighborhood Home Care, LLC</td>\n      <td>G0151 | G0299</td>\n      <td>...</td>\n      <td>2022-01-03 11:00:34.013</td>\n      <td>2022-01-03 16:59:59.971</td>\n      <td>2022-01-14</td>\n      <td>3 day</td>\n      <td>Element Care</td>\n      <td>NaT</td>\n      <td>TimelyLetter</td>\n      <td>No</td>\n      <td>2022-10-10 06:24:54.029</td>\n      <td>2022-10-09 22:18:33.034</td>\n    </tr>\n  </tbody>\n</table>\n<p>11646 rows × 23 columns</p>\n</div>"
     },
     "metadata": {},
     "output_type": "display_data"
    },
    {
     "name": "stdout",
     "output_type": "stream",
     "text": [
      "\n"
     ]
    }
   ],
   "source": [
    "# % % time\n",
    "# #Create dictionary to store dataframes as they are created\n",
    "# df_dict = {}\n",
    "# error_dict = {}\n",
    "# use glob to get all the csv files\n",
    "# in the folder\n",
    "path = os.getcwd()\n",
    "#print(os.getcwd())\n",
    "csv_files = glob.glob(os.path.join(path, \"*.xlsx\"))\n",
    "#cwd = os.chdir('C:\\\\Users\\\\Jad Driggers\\\\Documents\\\\Vesta\\\\CCAFILES\\\\CCA_AUTH')\n",
    "\n",
    "# Loop over files\n",
    "for f in csv_files:\n",
    "    df = pd.read_excel(f)\n",
    "\n",
    "    # print the location and filename\n",
    "    pd.set_option('display.max_colwidth', None)\n",
    "    print('Location:', f)\n",
    "    print('File Name:', f.split(\"\\\\\")[-1])\n",
    "\n",
    "    # print the content\n",
    "    print('Content:')\n",
    "    display(df)\n",
    "    print()\n",
    "\n",
    "\n",
    "\n",
    "\n",
    "\n"
   ],
   "metadata": {
    "collapsed": false,
    "pycharm": {
     "name": "#%%\n"
    }
   }
  },
  {
   "cell_type": "code",
   "execution_count": null,
   "outputs": [],
   "source": [
    "bucket = 'hometeam-clinical-data'\n",
    "copy_source = {\n",
    "    'Bucket': bucket,\n",
    "    'Key': 'raw/cca/Element MDS 202209.zip',\n",
    "}\n",
    "\n",
    "copy_source2 = {\n",
    "    'Bucket': bucket,\n",
    "    'Key': 'raw/cca/Element claims 202209.zip',\n",
    "}\n",
    "s3.meta.client.copy(copy_source,bucket, 'raw/cca/Monthly_Claims/Element MDS 202209.zip')\n",
    "s3.meta.client.copy(copy_source2,bucket, 'raw/cca/Monthly_Claims/Element claims 202209.zip')\n",
    "#s3.meta.client.delete_object('hometeam-clinical-data','Element MDS 202210.zip')\n",
    "# s3.client.delete_object(Bucket=bucket, Key='Element MDS 202210.zip')\n",
    "s3_object = s3.Object('hometeam-clinical-data', 'raw/cca/Monthly_Claims/Element MDS 202209.zip')\n",
    "s3_object.delete()"
   ],
   "metadata": {
    "collapsed": false,
    "pycharm": {
     "name": "#%%\n"
    }
   }
  },
  {
   "cell_type": "code",
   "execution_count": 5,
   "outputs": [
    {
     "ename": "NameError",
     "evalue": "name 'df' is not defined",
     "output_type": "error",
     "traceback": [
      "\u001B[1;31m---------------------------------------------------------------------------\u001B[0m",
      "\u001B[1;31mNameError\u001B[0m                                 Traceback (most recent call last)",
      "Input \u001B[1;32mIn [5]\u001B[0m, in \u001B[0;36m<cell line: 3>\u001B[1;34m()\u001B[0m\n\u001B[0;32m      1\u001B[0m \u001B[38;5;66;03m# Regex replace Service Description(s) extra char\u001B[39;00m\n\u001B[1;32m----> 3\u001B[0m df \u001B[38;5;241m=\u001B[39m \u001B[43mdf\u001B[49m[\u001B[38;5;124m'\u001B[39m\u001B[38;5;124mService Description(s)\u001B[39m\u001B[38;5;124m'\u001B[39m]\u001B[38;5;241m.\u001B[39mstr\u001B[38;5;241m.\u001B[39mreplace(\u001B[38;5;124mr\u001B[39m\u001B[38;5;124m'\u001B[39m\u001B[38;5;124m\\\u001B[39m\u001B[38;5;124mW+\u001B[39m\u001B[38;5;124m'\u001B[39m, \u001B[38;5;124m'\u001B[39m\u001B[38;5;124m \u001B[39m\u001B[38;5;124m'\u001B[39m, inplace\u001B[38;5;241m=\u001B[39m\u001B[38;5;28;01mTrue\u001B[39;00m)\n",
      "\u001B[1;31mNameError\u001B[0m: name 'df' is not defined"
     ]
    }
   ],
   "source": [
    "# Regex replace Service Description(s) extra char\n",
    "\n",
    "df = df['Service Description(s)'].str.replace(r'\\W+', ' ', inplace=True)\n",
    "\n",
    "#Rename columns\n",
    "# df.rename(columns={\"CCAID\": \"MEMBER_ID\",\n",
    "#                             \"min_SERVICE_FROM_DATE\": \"SERVICE_FROM_DATE\",\n",
    "#                             \"max_SERVICE_to_DATE\": \"SERVICE_TO_DATE\"},errors=\"raise\",\n",
    "#                    inplace=True)"
   ],
   "metadata": {
    "collapsed": false,
    "pycharm": {
     "name": "#%%\n"
    }
   }
  },
  {
   "cell_type": "code",
   "execution_count": 40,
   "outputs": [
    {
     "data": {
      "text/plain": "     AUTH_ID   MEMBER_ID                       Product          cat  \\\n0  0102S1Q6D  5366000712  Senior Care Options (SCO)-MA  Home Health   \n1  0102S38PQ  5365706182  Senior Care Options (SCO)-MA    Procedure   \n2  0102SMODE  5365665706  Senior Care Options (SCO)-MA  Home Health   \n3  0102SZTF9  5365576687  Senior Care Options (SCO)-MA  Home Health   \n4  0103M2N3I  5364525974  Senior Care Options (SCO)-MA  Home Health   \n\n           auth_priority           Received_Date SERVICE_FROM_DATE  \\\n0   Prospective Standard 2022-01-01 19:00:00.979        2022-01-07   \n1  Prospective Expedited 2022-01-02 12:04:03.994        2022-01-04   \n2   Prospective Standard 2022-01-01 18:22:10.042        2022-01-06   \n3   Prospective Standard 2022-01-02 09:42:14.976        2021-12-28   \n4   Prospective Standard 2022-01-03 12:19:37.027        2021-12-25   \n\n  SERVICE_TO_DATE             Referred To/Facility Service Code(s)  ...  \\\n0      2022-03-07           Comfort Home Care, LLC           G0299  ...   \n1      2023-01-04       Matthew Jonathan Weinstock           J9312  ...   \n2      2022-03-06           Comfort Home Care, LLC           G0299  ...   \n3      2022-02-25         Ideal Health Care System           G0299  ...   \n4      2022-02-22  Suburban Home Health Care, Inc.           G0299  ...   \n\n            Decision_Date        WrittenNotifDate   deadline       TAT  \\\n0 2022-01-03 09:55:42.038 2022-01-03 16:59:59.971 2022-01-15     2 day   \n1 2022-01-02 21:45:54.000 2022-01-03 12:00:00.000 2022-01-06  24 hours   \n2 2022-01-03 09:03:16.042 2022-01-03 16:59:59.971 2022-01-15     2 day   \n3 2022-01-03 10:37:53.040 2022-01-03 16:59:59.971 2022-01-16     1 day   \n4 2022-01-04 08:50:18.010 2022-01-04 16:59:59.971 2022-01-17     1 day   \n\n            CMO Verbal_Notification_Fixed_New   Letter Flag  \\\n0  Element Care                           NaT  TimelyLetter   \n1  Element Care       2022-01-03 07:59:59.971  TimelyLetter   \n2  Element Care                           NaT  TimelyLetter   \n3  Element Care                           NaT  TimelyLetter   \n4  Element Care                           NaT  TimelyLetter   \n\n  Admin Approval or Admin Denial                LoadDate  \\\n0                             No 2022-10-10 06:24:54.029   \n1                             No 2022-10-10 06:24:54.029   \n2                             No 2022-10-10 06:24:54.029   \n3                             No 2022-10-10 06:24:54.029   \n4                             No 2022-10-10 06:24:54.029   \n\n     Altruista_updatedate  \n0 2022-10-09 22:18:33.034  \n1 2022-10-09 22:18:33.034  \n2 2022-10-09 22:18:33.034  \n3 2022-10-09 22:18:33.034  \n4 2022-10-09 22:18:33.034  \n\n[5 rows x 23 columns]",
      "text/html": "<div>\n<style scoped>\n    .dataframe tbody tr th:only-of-type {\n        vertical-align: middle;\n    }\n\n    .dataframe tbody tr th {\n        vertical-align: top;\n    }\n\n    .dataframe thead th {\n        text-align: right;\n    }\n</style>\n<table border=\"1\" class=\"dataframe\">\n  <thead>\n    <tr style=\"text-align: right;\">\n      <th></th>\n      <th>AUTH_ID</th>\n      <th>MEMBER_ID</th>\n      <th>Product</th>\n      <th>cat</th>\n      <th>auth_priority</th>\n      <th>Received_Date</th>\n      <th>SERVICE_FROM_DATE</th>\n      <th>SERVICE_TO_DATE</th>\n      <th>Referred To/Facility</th>\n      <th>Service Code(s)</th>\n      <th>...</th>\n      <th>Decision_Date</th>\n      <th>WrittenNotifDate</th>\n      <th>deadline</th>\n      <th>TAT</th>\n      <th>CMO</th>\n      <th>Verbal_Notification_Fixed_New</th>\n      <th>Letter Flag</th>\n      <th>Admin Approval or Admin Denial</th>\n      <th>LoadDate</th>\n      <th>Altruista_updatedate</th>\n    </tr>\n  </thead>\n  <tbody>\n    <tr>\n      <th>0</th>\n      <td>0102S1Q6D</td>\n      <td>5366000712</td>\n      <td>Senior Care Options (SCO)-MA</td>\n      <td>Home Health</td>\n      <td>Prospective Standard</td>\n      <td>2022-01-01 19:00:00.979</td>\n      <td>2022-01-07</td>\n      <td>2022-03-07</td>\n      <td>Comfort Home Care, LLC</td>\n      <td>G0299</td>\n      <td>...</td>\n      <td>2022-01-03 09:55:42.038</td>\n      <td>2022-01-03 16:59:59.971</td>\n      <td>2022-01-15</td>\n      <td>2 day</td>\n      <td>Element Care</td>\n      <td>NaT</td>\n      <td>TimelyLetter</td>\n      <td>No</td>\n      <td>2022-10-10 06:24:54.029</td>\n      <td>2022-10-09 22:18:33.034</td>\n    </tr>\n    <tr>\n      <th>1</th>\n      <td>0102S38PQ</td>\n      <td>5365706182</td>\n      <td>Senior Care Options (SCO)-MA</td>\n      <td>Procedure</td>\n      <td>Prospective Expedited</td>\n      <td>2022-01-02 12:04:03.994</td>\n      <td>2022-01-04</td>\n      <td>2023-01-04</td>\n      <td>Matthew Jonathan Weinstock</td>\n      <td>J9312</td>\n      <td>...</td>\n      <td>2022-01-02 21:45:54.000</td>\n      <td>2022-01-03 12:00:00.000</td>\n      <td>2022-01-06</td>\n      <td>24 hours</td>\n      <td>Element Care</td>\n      <td>2022-01-03 07:59:59.971</td>\n      <td>TimelyLetter</td>\n      <td>No</td>\n      <td>2022-10-10 06:24:54.029</td>\n      <td>2022-10-09 22:18:33.034</td>\n    </tr>\n    <tr>\n      <th>2</th>\n      <td>0102SMODE</td>\n      <td>5365665706</td>\n      <td>Senior Care Options (SCO)-MA</td>\n      <td>Home Health</td>\n      <td>Prospective Standard</td>\n      <td>2022-01-01 18:22:10.042</td>\n      <td>2022-01-06</td>\n      <td>2022-03-06</td>\n      <td>Comfort Home Care, LLC</td>\n      <td>G0299</td>\n      <td>...</td>\n      <td>2022-01-03 09:03:16.042</td>\n      <td>2022-01-03 16:59:59.971</td>\n      <td>2022-01-15</td>\n      <td>2 day</td>\n      <td>Element Care</td>\n      <td>NaT</td>\n      <td>TimelyLetter</td>\n      <td>No</td>\n      <td>2022-10-10 06:24:54.029</td>\n      <td>2022-10-09 22:18:33.034</td>\n    </tr>\n    <tr>\n      <th>3</th>\n      <td>0102SZTF9</td>\n      <td>5365576687</td>\n      <td>Senior Care Options (SCO)-MA</td>\n      <td>Home Health</td>\n      <td>Prospective Standard</td>\n      <td>2022-01-02 09:42:14.976</td>\n      <td>2021-12-28</td>\n      <td>2022-02-25</td>\n      <td>Ideal Health Care System</td>\n      <td>G0299</td>\n      <td>...</td>\n      <td>2022-01-03 10:37:53.040</td>\n      <td>2022-01-03 16:59:59.971</td>\n      <td>2022-01-16</td>\n      <td>1 day</td>\n      <td>Element Care</td>\n      <td>NaT</td>\n      <td>TimelyLetter</td>\n      <td>No</td>\n      <td>2022-10-10 06:24:54.029</td>\n      <td>2022-10-09 22:18:33.034</td>\n    </tr>\n    <tr>\n      <th>4</th>\n      <td>0103M2N3I</td>\n      <td>5364525974</td>\n      <td>Senior Care Options (SCO)-MA</td>\n      <td>Home Health</td>\n      <td>Prospective Standard</td>\n      <td>2022-01-03 12:19:37.027</td>\n      <td>2021-12-25</td>\n      <td>2022-02-22</td>\n      <td>Suburban Home Health Care, Inc.</td>\n      <td>G0299</td>\n      <td>...</td>\n      <td>2022-01-04 08:50:18.010</td>\n      <td>2022-01-04 16:59:59.971</td>\n      <td>2022-01-17</td>\n      <td>1 day</td>\n      <td>Element Care</td>\n      <td>NaT</td>\n      <td>TimelyLetter</td>\n      <td>No</td>\n      <td>2022-10-10 06:24:54.029</td>\n      <td>2022-10-09 22:18:33.034</td>\n    </tr>\n  </tbody>\n</table>\n<p>5 rows × 23 columns</p>\n</div>"
     },
     "execution_count": 40,
     "metadata": {},
     "output_type": "execute_result"
    }
   ],
   "source": [
    "\n",
    "df.head()"
   ],
   "metadata": {
    "collapsed": false,
    "pycharm": {
     "name": "#%%\n"
    }
   }
  },
  {
   "cell_type": "code",
   "execution_count": 27,
   "outputs": [],
   "source": [
    "#Creating of parameters for securing connection to Snowflake-credentials stored in local environment variables\n",
    "username = os.getenv('Snowflake_User')\n",
    "password = os.getenv('Snowflake_password')\n",
    "account = os.getenv('Snowflake_account')\n",
    "\n",
    "#Define parameters if neccessary\n",
    "warehouse = 'DEVELOPER_STANDARD'\n",
    "database = 'VESTA_DEVELOPMENT'\n",
    "schema = 'ANALYST_SANDBOX'\n",
    "\n",
    "#Create connection object for Snowflake connection\n",
    "conn = sf.connect(user=username, password=password, account=account, warehouse=warehouse)\n",
    "\n",
    "\n",
    "#Execution function\n",
    "def execute_query(connection, query):\n",
    "    cursor = connection.cursor()\n",
    "    cursor.execute(query)\n",
    "    cursor.close\n",
    "\n",
    "\n",
    "#Define Database to use in Snowflake\n",
    "sql = 'USE DATABASE {}'.format(database)\n",
    "execute_query(conn, sql)\n",
    "\n",
    "#Define Schema to use in Snowflake\n",
    "sql = 'USE SCHEMA {}.{}'.format(database, schema)\n",
    "execute_query(conn, sql)\n",
    "\n",
    "#Define Warehouse to use in Snowflake\n",
    "sql = 'USE WAREHOUSE {}'.format(warehouse)\n",
    "execute_query(conn, sql)"
   ],
   "metadata": {
    "collapsed": false,
    "pycharm": {
     "name": "#%%\n"
    }
   }
  },
  {
   "cell_type": "code",
   "execution_count": 33,
   "outputs": [
    {
     "name": "stdout",
     "output_type": "stream",
     "text": [
      "001003 (42000): SQL compilation error:\n",
      "syntax error line 1 at position 40 unexpected '<EOF>'.\n"
     ]
    }
   ],
   "source": [
    "# Creating test sql table\n",
    "\n",
    "try:\n",
    "    sql = 'DROP TABLE IF EXISTS CCA_AUTH_TEST'\n",
    "    execute_query(conn, sql)\n",
    "\n",
    "except Exception as e:\n",
    "    print(e)\n",
    "\n",
    "try:\n",
    "    sql = 'CREATE TABLE IF NOT EXISTS CCA_AUTH_TEST'\n",
    "    execute_query(conn, sql)\n",
    "\n",
    "    success, nchucks, nrows, _ = write_pandas(conn, DF_ETL)\n",
    "except Exception as e:\n",
    "    print(e)"
   ],
   "metadata": {
    "collapsed": false,
    "pycharm": {
     "name": "#%%\n"
    }
   }
  },
  {
   "cell_type": "code",
   "execution_count": 34,
   "outputs": [
    {
     "data": {
      "text/plain": "0                                Skilled Nursing 60 Days\n1                              Injection rituximab 10 mg\n2                                Skilled Nursing 60 Days\n3                                Skilled Nursing 60 Days\n4                                Skilled Nursing 60 Days\n                              ...                       \n11641                                 Companion Services\n11642                                  Homemaker Service\n11643                            Skilled Nursing 60 Days\n11644    Homemaker Service Personal Care Agency not PCA)\n11645           Physical Therapy Skilled Nursing 60 Days\nName: Service Description(s), Length: 11646, dtype: object"
     },
     "execution_count": 34,
     "metadata": {},
     "output_type": "execute_result"
    }
   ],
   "source": [
    "DF_ETL"
   ],
   "metadata": {
    "collapsed": false,
    "pycharm": {
     "name": "#%%\n"
    }
   }
  },
  {
   "cell_type": "code",
   "execution_count": 35,
   "outputs": [
    {
     "data": {
      "text/plain": "         AUTH_ID   MEMBER_ID                       Product          cat  \\\n0      0102S1Q6D  5366000712  Senior Care Options (SCO)-MA  Home Health   \n1      0102S38PQ  5365706182  Senior Care Options (SCO)-MA    Procedure   \n2      0102SMODE  5365665706  Senior Care Options (SCO)-MA  Home Health   \n3      0102SZTF9  5365576687  Senior Care Options (SCO)-MA  Home Health   \n4      0103M2N3I  5364525974  Senior Care Options (SCO)-MA  Home Health   \n...          ...         ...                           ...          ...   \n11641  1231FCFJB  5365652676  Senior Care Options (SCO)-MA         LTSS   \n11642  1231FRDSP  5365612416  Senior Care Options (SCO)-MA         LTSS   \n11643  1231FSXXZ  5365584766  Senior Care Options (SCO)-MA  Home Health   \n11644  1231FV5QD  5365652676  Senior Care Options (SCO)-MA         LTSS   \n11645  1231FZQ5V  5365602184  Senior Care Options (SCO)-MA  Home Health   \n\n               auth_priority           Received_Date SERVICE_FROM_DATE  \\\n0       Prospective Standard 2022-01-01 19:00:00.979        2022-01-07   \n1      Prospective Expedited 2022-01-02 12:04:03.994        2022-01-04   \n2       Prospective Standard 2022-01-01 18:22:10.042        2022-01-06   \n3       Prospective Standard 2022-01-02 09:42:14.976        2021-12-28   \n4       Prospective Standard 2022-01-03 12:19:37.027        2021-12-25   \n...                      ...                     ...               ...   \n11641   Prospective Standard 2021-12-31 06:22:21.965        2022-01-01   \n11642   Prospective Standard 2021-12-31 06:33:33.034        2022-01-01   \n11643   Prospective Standard 2021-12-31 12:53:09.024        2022-01-01   \n11644   Prospective Standard 2021-12-31 06:30:20.016        2022-01-01   \n11645   Prospective Standard 2021-12-31 11:52:44.976        2021-12-29   \n\n      SERVICE_TO_DATE                Referred To/Facility Service Code(s)  \\\n0          2022-03-07              Comfort Home Care, LLC           G0299   \n1          2023-01-04          Matthew Jonathan Weinstock           J9312   \n2          2022-03-06              Comfort Home Care, LLC           G0299   \n3          2022-02-25            Ideal Health Care System           G0299   \n4          2022-02-22     Suburban Home Health Care, Inc.           G0299   \n...               ...                                 ...             ...   \n11641      2022-01-27                  Quality Care, Inc.           S5135   \n11642      2022-06-30      Uniting With You Home Care LLC           S5130   \n11643      2022-01-28  All Care VNA of Greater Lynn, Inc.           G0299   \n11644      2022-01-27                  Quality Care, Inc.   S5130 | S5131   \n11645      2022-01-28         Neighborhood Home Care, LLC   G0151 | G0299   \n\n       ...           Decision_Date        WrittenNotifDate   deadline  \\\n0      ... 2022-01-03 09:55:42.038 2022-01-03 16:59:59.971 2022-01-15   \n1      ... 2022-01-02 21:45:54.000 2022-01-03 12:00:00.000 2022-01-06   \n2      ... 2022-01-03 09:03:16.042 2022-01-03 16:59:59.971 2022-01-15   \n3      ... 2022-01-03 10:37:53.040 2022-01-03 16:59:59.971 2022-01-16   \n4      ... 2022-01-04 08:50:18.010 2022-01-04 16:59:59.971 2022-01-17   \n...    ...                     ...                     ...        ...   \n11641  ... 2022-01-03 09:46:11.971 2022-01-03 16:59:59.971 2022-01-14   \n11642  ... 2022-01-03 08:59:49.027 2022-01-03 16:59:59.971 2022-01-14   \n11643  ... 2022-01-03 09:55:37.978 2022-01-03 16:59:59.971 2022-01-14   \n11644  ... 2022-01-03 09:49:19.027 2022-01-03 16:59:59.971 2022-01-14   \n11645  ... 2022-01-03 11:00:34.013 2022-01-03 16:59:59.971 2022-01-14   \n\n            TAT           CMO Verbal_Notification_Fixed_New   Letter Flag  \\\n0         2 day  Element Care                           NaT  TimelyLetter   \n1      24 hours  Element Care       2022-01-03 07:59:59.971  TimelyLetter   \n2         2 day  Element Care                           NaT  TimelyLetter   \n3         1 day  Element Care                           NaT  TimelyLetter   \n4         1 day  Element Care                           NaT  TimelyLetter   \n...         ...           ...                           ...           ...   \n11641     3 day  Element Care                           NaT  TimelyLetter   \n11642     3 day  Element Care                           NaT  TimelyLetter   \n11643     3 day  Element Care                           NaT  TimelyLetter   \n11644     3 day  Element Care                           NaT  TimelyLetter   \n11645     3 day  Element Care                           NaT  TimelyLetter   \n\n      Admin Approval or Admin Denial                LoadDate  \\\n0                                 No 2022-10-10 06:24:54.029   \n1                                 No 2022-10-10 06:24:54.029   \n2                                 No 2022-10-10 06:24:54.029   \n3                                 No 2022-10-10 06:24:54.029   \n4                                 No 2022-10-10 06:24:54.029   \n...                              ...                     ...   \n11641                             No 2022-10-10 06:24:54.029   \n11642                             No 2022-10-10 06:24:54.029   \n11643                             No 2022-10-10 06:24:54.029   \n11644                             No 2022-10-10 06:24:54.029   \n11645                             No 2022-10-10 06:24:54.029   \n\n         Altruista_updatedate  \n0     2022-10-09 22:18:33.034  \n1     2022-10-09 22:18:33.034  \n2     2022-10-09 22:18:33.034  \n3     2022-10-09 22:18:33.034  \n4     2022-10-09 22:18:33.034  \n...                       ...  \n11641 2022-10-09 22:18:33.034  \n11642 2022-10-09 22:18:33.034  \n11643 2022-10-09 22:18:33.034  \n11644 2022-10-09 22:18:33.034  \n11645 2022-10-09 22:18:33.034  \n\n[11646 rows x 23 columns]",
      "text/html": "<div>\n<style scoped>\n    .dataframe tbody tr th:only-of-type {\n        vertical-align: middle;\n    }\n\n    .dataframe tbody tr th {\n        vertical-align: top;\n    }\n\n    .dataframe thead th {\n        text-align: right;\n    }\n</style>\n<table border=\"1\" class=\"dataframe\">\n  <thead>\n    <tr style=\"text-align: right;\">\n      <th></th>\n      <th>AUTH_ID</th>\n      <th>MEMBER_ID</th>\n      <th>Product</th>\n      <th>cat</th>\n      <th>auth_priority</th>\n      <th>Received_Date</th>\n      <th>SERVICE_FROM_DATE</th>\n      <th>SERVICE_TO_DATE</th>\n      <th>Referred To/Facility</th>\n      <th>Service Code(s)</th>\n      <th>...</th>\n      <th>Decision_Date</th>\n      <th>WrittenNotifDate</th>\n      <th>deadline</th>\n      <th>TAT</th>\n      <th>CMO</th>\n      <th>Verbal_Notification_Fixed_New</th>\n      <th>Letter Flag</th>\n      <th>Admin Approval or Admin Denial</th>\n      <th>LoadDate</th>\n      <th>Altruista_updatedate</th>\n    </tr>\n  </thead>\n  <tbody>\n    <tr>\n      <th>0</th>\n      <td>0102S1Q6D</td>\n      <td>5366000712</td>\n      <td>Senior Care Options (SCO)-MA</td>\n      <td>Home Health</td>\n      <td>Prospective Standard</td>\n      <td>2022-01-01 19:00:00.979</td>\n      <td>2022-01-07</td>\n      <td>2022-03-07</td>\n      <td>Comfort Home Care, LLC</td>\n      <td>G0299</td>\n      <td>...</td>\n      <td>2022-01-03 09:55:42.038</td>\n      <td>2022-01-03 16:59:59.971</td>\n      <td>2022-01-15</td>\n      <td>2 day</td>\n      <td>Element Care</td>\n      <td>NaT</td>\n      <td>TimelyLetter</td>\n      <td>No</td>\n      <td>2022-10-10 06:24:54.029</td>\n      <td>2022-10-09 22:18:33.034</td>\n    </tr>\n    <tr>\n      <th>1</th>\n      <td>0102S38PQ</td>\n      <td>5365706182</td>\n      <td>Senior Care Options (SCO)-MA</td>\n      <td>Procedure</td>\n      <td>Prospective Expedited</td>\n      <td>2022-01-02 12:04:03.994</td>\n      <td>2022-01-04</td>\n      <td>2023-01-04</td>\n      <td>Matthew Jonathan Weinstock</td>\n      <td>J9312</td>\n      <td>...</td>\n      <td>2022-01-02 21:45:54.000</td>\n      <td>2022-01-03 12:00:00.000</td>\n      <td>2022-01-06</td>\n      <td>24 hours</td>\n      <td>Element Care</td>\n      <td>2022-01-03 07:59:59.971</td>\n      <td>TimelyLetter</td>\n      <td>No</td>\n      <td>2022-10-10 06:24:54.029</td>\n      <td>2022-10-09 22:18:33.034</td>\n    </tr>\n    <tr>\n      <th>2</th>\n      <td>0102SMODE</td>\n      <td>5365665706</td>\n      <td>Senior Care Options (SCO)-MA</td>\n      <td>Home Health</td>\n      <td>Prospective Standard</td>\n      <td>2022-01-01 18:22:10.042</td>\n      <td>2022-01-06</td>\n      <td>2022-03-06</td>\n      <td>Comfort Home Care, LLC</td>\n      <td>G0299</td>\n      <td>...</td>\n      <td>2022-01-03 09:03:16.042</td>\n      <td>2022-01-03 16:59:59.971</td>\n      <td>2022-01-15</td>\n      <td>2 day</td>\n      <td>Element Care</td>\n      <td>NaT</td>\n      <td>TimelyLetter</td>\n      <td>No</td>\n      <td>2022-10-10 06:24:54.029</td>\n      <td>2022-10-09 22:18:33.034</td>\n    </tr>\n    <tr>\n      <th>3</th>\n      <td>0102SZTF9</td>\n      <td>5365576687</td>\n      <td>Senior Care Options (SCO)-MA</td>\n      <td>Home Health</td>\n      <td>Prospective Standard</td>\n      <td>2022-01-02 09:42:14.976</td>\n      <td>2021-12-28</td>\n      <td>2022-02-25</td>\n      <td>Ideal Health Care System</td>\n      <td>G0299</td>\n      <td>...</td>\n      <td>2022-01-03 10:37:53.040</td>\n      <td>2022-01-03 16:59:59.971</td>\n      <td>2022-01-16</td>\n      <td>1 day</td>\n      <td>Element Care</td>\n      <td>NaT</td>\n      <td>TimelyLetter</td>\n      <td>No</td>\n      <td>2022-10-10 06:24:54.029</td>\n      <td>2022-10-09 22:18:33.034</td>\n    </tr>\n    <tr>\n      <th>4</th>\n      <td>0103M2N3I</td>\n      <td>5364525974</td>\n      <td>Senior Care Options (SCO)-MA</td>\n      <td>Home Health</td>\n      <td>Prospective Standard</td>\n      <td>2022-01-03 12:19:37.027</td>\n      <td>2021-12-25</td>\n      <td>2022-02-22</td>\n      <td>Suburban Home Health Care, Inc.</td>\n      <td>G0299</td>\n      <td>...</td>\n      <td>2022-01-04 08:50:18.010</td>\n      <td>2022-01-04 16:59:59.971</td>\n      <td>2022-01-17</td>\n      <td>1 day</td>\n      <td>Element Care</td>\n      <td>NaT</td>\n      <td>TimelyLetter</td>\n      <td>No</td>\n      <td>2022-10-10 06:24:54.029</td>\n      <td>2022-10-09 22:18:33.034</td>\n    </tr>\n    <tr>\n      <th>...</th>\n      <td>...</td>\n      <td>...</td>\n      <td>...</td>\n      <td>...</td>\n      <td>...</td>\n      <td>...</td>\n      <td>...</td>\n      <td>...</td>\n      <td>...</td>\n      <td>...</td>\n      <td>...</td>\n      <td>...</td>\n      <td>...</td>\n      <td>...</td>\n      <td>...</td>\n      <td>...</td>\n      <td>...</td>\n      <td>...</td>\n      <td>...</td>\n      <td>...</td>\n      <td>...</td>\n    </tr>\n    <tr>\n      <th>11641</th>\n      <td>1231FCFJB</td>\n      <td>5365652676</td>\n      <td>Senior Care Options (SCO)-MA</td>\n      <td>LTSS</td>\n      <td>Prospective Standard</td>\n      <td>2021-12-31 06:22:21.965</td>\n      <td>2022-01-01</td>\n      <td>2022-01-27</td>\n      <td>Quality Care, Inc.</td>\n      <td>S5135</td>\n      <td>...</td>\n      <td>2022-01-03 09:46:11.971</td>\n      <td>2022-01-03 16:59:59.971</td>\n      <td>2022-01-14</td>\n      <td>3 day</td>\n      <td>Element Care</td>\n      <td>NaT</td>\n      <td>TimelyLetter</td>\n      <td>No</td>\n      <td>2022-10-10 06:24:54.029</td>\n      <td>2022-10-09 22:18:33.034</td>\n    </tr>\n    <tr>\n      <th>11642</th>\n      <td>1231FRDSP</td>\n      <td>5365612416</td>\n      <td>Senior Care Options (SCO)-MA</td>\n      <td>LTSS</td>\n      <td>Prospective Standard</td>\n      <td>2021-12-31 06:33:33.034</td>\n      <td>2022-01-01</td>\n      <td>2022-06-30</td>\n      <td>Uniting With You Home Care LLC</td>\n      <td>S5130</td>\n      <td>...</td>\n      <td>2022-01-03 08:59:49.027</td>\n      <td>2022-01-03 16:59:59.971</td>\n      <td>2022-01-14</td>\n      <td>3 day</td>\n      <td>Element Care</td>\n      <td>NaT</td>\n      <td>TimelyLetter</td>\n      <td>No</td>\n      <td>2022-10-10 06:24:54.029</td>\n      <td>2022-10-09 22:18:33.034</td>\n    </tr>\n    <tr>\n      <th>11643</th>\n      <td>1231FSXXZ</td>\n      <td>5365584766</td>\n      <td>Senior Care Options (SCO)-MA</td>\n      <td>Home Health</td>\n      <td>Prospective Standard</td>\n      <td>2021-12-31 12:53:09.024</td>\n      <td>2022-01-01</td>\n      <td>2022-01-28</td>\n      <td>All Care VNA of Greater Lynn, Inc.</td>\n      <td>G0299</td>\n      <td>...</td>\n      <td>2022-01-03 09:55:37.978</td>\n      <td>2022-01-03 16:59:59.971</td>\n      <td>2022-01-14</td>\n      <td>3 day</td>\n      <td>Element Care</td>\n      <td>NaT</td>\n      <td>TimelyLetter</td>\n      <td>No</td>\n      <td>2022-10-10 06:24:54.029</td>\n      <td>2022-10-09 22:18:33.034</td>\n    </tr>\n    <tr>\n      <th>11644</th>\n      <td>1231FV5QD</td>\n      <td>5365652676</td>\n      <td>Senior Care Options (SCO)-MA</td>\n      <td>LTSS</td>\n      <td>Prospective Standard</td>\n      <td>2021-12-31 06:30:20.016</td>\n      <td>2022-01-01</td>\n      <td>2022-01-27</td>\n      <td>Quality Care, Inc.</td>\n      <td>S5130 | S5131</td>\n      <td>...</td>\n      <td>2022-01-03 09:49:19.027</td>\n      <td>2022-01-03 16:59:59.971</td>\n      <td>2022-01-14</td>\n      <td>3 day</td>\n      <td>Element Care</td>\n      <td>NaT</td>\n      <td>TimelyLetter</td>\n      <td>No</td>\n      <td>2022-10-10 06:24:54.029</td>\n      <td>2022-10-09 22:18:33.034</td>\n    </tr>\n    <tr>\n      <th>11645</th>\n      <td>1231FZQ5V</td>\n      <td>5365602184</td>\n      <td>Senior Care Options (SCO)-MA</td>\n      <td>Home Health</td>\n      <td>Prospective Standard</td>\n      <td>2021-12-31 11:52:44.976</td>\n      <td>2021-12-29</td>\n      <td>2022-01-28</td>\n      <td>Neighborhood Home Care, LLC</td>\n      <td>G0151 | G0299</td>\n      <td>...</td>\n      <td>2022-01-03 11:00:34.013</td>\n      <td>2022-01-03 16:59:59.971</td>\n      <td>2022-01-14</td>\n      <td>3 day</td>\n      <td>Element Care</td>\n      <td>NaT</td>\n      <td>TimelyLetter</td>\n      <td>No</td>\n      <td>2022-10-10 06:24:54.029</td>\n      <td>2022-10-09 22:18:33.034</td>\n    </tr>\n  </tbody>\n</table>\n<p>11646 rows × 23 columns</p>\n</div>"
     },
     "execution_count": 35,
     "metadata": {},
     "output_type": "execute_result"
    }
   ],
   "source": [
    "df"
   ],
   "metadata": {
    "collapsed": false,
    "pycharm": {
     "name": "#%%\n"
    }
   }
  },
  {
   "cell_type": "code",
   "execution_count": null,
   "outputs": [],
   "source": [],
   "metadata": {
    "collapsed": false,
    "pycharm": {
     "name": "#%%\n"
    }
   }
  }
 ],
 "metadata": {
  "kernelspec": {
   "display_name": "Python 3",
   "language": "python",
   "name": "python3"
  },
  "language_info": {
   "codemirror_mode": {
    "name": "ipython",
    "version": 2
   },
   "file_extension": ".py",
   "mimetype": "text/x-python",
   "name": "python",
   "nbconvert_exporter": "python",
   "pygments_lexer": "ipython2",
   "version": "2.7.6"
  }
 },
 "nbformat": 4,
 "nbformat_minor": 0
}